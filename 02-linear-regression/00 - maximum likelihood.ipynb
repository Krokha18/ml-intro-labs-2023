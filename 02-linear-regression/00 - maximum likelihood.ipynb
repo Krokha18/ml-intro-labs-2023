{
 "cells": [
  {
   "cell_type": "code",
   "execution_count": 1,
   "id": "e81a3d3b",
   "metadata": {},
   "outputs": [],
   "source": [
    "import numpy as np\n",
    "import pandas as pd\n",
    "import matplotlib.pyplot as plt\n",
    "\n",
    "import scipy.stats as stats"
   ]
  },
  {
   "cell_type": "markdown",
   "id": "8a615095",
   "metadata": {},
   "source": [
    "# Метод максимальної правдоподібності.\n",
    "\n",
    "Нехай в нас є випадкова величина із ймовірнісним розподілом $\\xi \\sim p(x, \\overrightarrow{\\theta})$ , де p - щільність розподілу, $\\overrightarrow{\\theta}$ - невідомі параметри розподілу\n",
    "\n",
    "Наприклад, $$\\overrightarrow{\\theta} = (a, \\sigma^2)$$ \n",
    "\n",
    "$$ p(x, a, \\sigma^2) = \\cfrac {1}{\\sqrt{2 \\pi \\sigma^2}} \\exp(\\cfrac{-(x-a)^2}{2\\sigma^2}) $$ для нормального розподілу\n",
    "\n",
    "Маємо вибірку із цього розподілу $ (x_1, x_2, ... x_k)  $ , але не знаємо значень параметрів $ (a, \\sigma^2) $"
   ]
  },
  {
   "cell_type": "code",
   "execution_count": 2,
   "id": "776881e5",
   "metadata": {},
   "outputs": [
    {
     "data": {
      "text/plain": [
       "array([ 1.16734279, -1.54107911,  0.12933443,  0.44814811, -0.36265224,\n",
       "        0.23958882,  1.48352214,  0.79114736, -0.24896605,  0.95862586,\n",
       "        2.69271494, -0.15969957,  1.10437067, -0.70616676, -0.78975444,\n",
       "       -0.603558  ,  0.13312656,  0.79341215, -0.09862537, -1.00538368,\n",
       "       -0.67203209, -0.16944716,  0.69655424,  0.78214408, -0.6932182 ,\n",
       "       -0.44496006,  0.32027854,  0.38105445, -2.01650965, -1.51354   ,\n",
       "        0.05766364, -0.49576109, -1.20586109, -0.32171455, -0.2835622 ,\n",
       "       -1.60840477,  1.41319348, -0.35577368, -1.202393  , -0.55703952,\n",
       "       -0.68761198,  1.45434454,  1.06445022,  0.37131387,  1.39904245,\n",
       "       -0.64623332, -0.41707299,  2.00822032,  0.29445335, -0.25422188,\n",
       "       -0.80326442, -1.50128455,  0.32679408,  0.19668246,  0.49300245,\n",
       "       -1.88353989, -0.97821804, -0.71810799, -0.22576705,  0.23038557,\n",
       "        1.29926208, -0.92185203,  1.83312054,  1.61746529,  0.23657005,\n",
       "        1.28294363, -1.26636798, -0.61553611, -0.38046962, -0.98850205,\n",
       "        0.65385305,  0.93199511, -1.04878665, -0.21030199, -0.64063158,\n",
       "       -0.60860371,  0.78292818, -0.15645206, -0.60320927, -1.33255682,\n",
       "       -0.68102301, -0.38138947,  0.67400288, -0.00526707, -0.18750485,\n",
       "        1.1151596 ,  1.02617626, -0.02154317, -0.30191254,  0.6675941 ,\n",
       "        0.15603961,  1.02964584,  0.36411758, -1.53819566,  0.84318987,\n",
       "       -0.93431572, -0.25089568,  2.2703513 ,  0.40005424,  0.03911192])"
      ]
     },
     "execution_count": 2,
     "metadata": {},
     "output_type": "execute_result"
    }
   ],
   "source": [
    "a = 0 #mean\n",
    "#sigma - unknown\n",
    "\n",
    "sample = np.random.normal(loc = a, size = 100)\n",
    "sample"
   ]
  },
  {
   "cell_type": "markdown",
   "id": "4b18c1eb",
   "metadata": {},
   "source": [
    "За вибіркою можна ввести функцію правдоподібності, яка означатиме ймовірність, що вибірка отримана із даного розподілу:\n",
    "\n",
    "$$ Likelihood(x_1, x_2, ... , x_k, \\overrightarrow{\\theta} ) = \\prod_{i=1}^{k} p(x_i, \\overrightarrow{\\theta}) $$\n",
    "\n",
    "або ще часто беруть її логарифм, для того щоб перетворити добуток на суму\n",
    "\n",
    "$$ logLikelihood(x_1, x_2, ... , x_k, \\overrightarrow{\\theta} ) = \\sum_{i=1}^{k} log p(x_i, \\overrightarrow{\\theta}) $$\n",
    "\n",
    "Ідея методу максимальної правдоподібності полягає у тому, щоб привести функцію правдоподібності до максимуму і знайти параметри розподілу, які дають максимум функції правдоподібності:\n",
    "\n",
    "$$ \\prod_{i=1}^{k} p(x_i, \\overrightarrow{\\theta}) \\rightarrow max_{\\theta} $$\n",
    "\n",
    "Або, що те ж саме, дають максимум логарифму правдоподібності:\n",
    "\n",
    "$$ \\sum_{i=1}^{k} log p(x_i, \\overrightarrow{\\theta}) \\rightarrow max_{\\theta} $$"
   ]
  },
  {
   "cell_type": "markdown",
   "id": "2453f825",
   "metadata": {},
   "source": [
    "Покажемо як змінюється правдоподібність залежно від невідомого параметра, підрахуємо правдоподібність залежно від різних сігма"
   ]
  },
  {
   "cell_type": "code",
   "execution_count": 3,
   "id": "d4328d1c",
   "metadata": {},
   "outputs": [
    {
     "data": {
      "text/plain": [
       "array([0.5, 0.6, 0.7, 0.8, 0.9, 1. , 1.1, 1.2, 1.3, 1.4, 1.5, 1.6, 1.7,\n",
       "       1.8, 1.9])"
      ]
     },
     "execution_count": 3,
     "metadata": {},
     "output_type": "execute_result"
    }
   ],
   "source": [
    "#stats.norm.pdf - щільність нормального розподілу\n",
    "\n",
    "sigma_arr = np.arange(0.5, 2.0, 0.1) #для графіку, побудуємо логарифм правдоподібності при різних sigma\n",
    "sigma_arr"
   ]
  },
  {
   "cell_type": "code",
   "execution_count": 4,
   "id": "13b2481d",
   "metadata": {},
   "outputs": [],
   "source": [
    "def log_likelihood_normal(sample, a, sigma):\n",
    "    result = 0\n",
    "    for x in sample:\n",
    "        result += np.log(stats.norm.pdf(x, loc = a, scale = sigma))\n",
    "    return result\n",
    "\n",
    "likelihood_arr = [log_likelihood_normal(sample, a=a, sigma = val) for val in sigma_arr]"
   ]
  },
  {
   "cell_type": "markdown",
   "id": "c60d84c5",
   "metadata": {},
   "source": [
    "Інтуїтивно за графіком можна визначити, що максимум правдоподібності приблизно при $\\sigma = 0.9$ або $\\sigma = 1.0$"
   ]
  },
  {
   "cell_type": "code",
   "execution_count": 5,
   "id": "dab15223",
   "metadata": {},
   "outputs": [
    {
     "data": {
      "text/plain": [
       "[<matplotlib.lines.Line2D at 0x7f6f3f0415a0>]"
      ]
     },
     "execution_count": 5,
     "metadata": {},
     "output_type": "execute_result"
    },
    {
     "data": {
      "image/png": "[encoded data removed]",
      "text/plain": [
       "<Figure size 640x480 with 1 Axes>"
      ]
     },
     "metadata": {},
     "output_type": "display_data"
    }
   ],
   "source": [
    "plt.plot(sigma_arr, likelihood_arr, color = 'red', marker = 'o')"
   ]
  },
  {
   "cell_type": "markdown",
   "id": "51edc905",
   "metadata": {},
   "source": [
    "В деяких випадках оцінки параметрів можна знайти аналітично. Зокрема, розглянемо вибірку отриману із нормального розподілу:\n",
    "\n",
    "Нехай $ (x_1, ... , x_k) $ - значення, згенеровані із розподілу $ \\xi \\sim N(a, \\sigma^2) $ . Розглянемо функцію правдоподібності для нормальної вибірки:\n",
    "\n",
    "$ Likelihood(x_1, ... , x_k, a, \\sigma^2)$ = $\\prod_{i=1}^k \\cfrac{1}{\\sqrt{2 \\pi \\sigma^2}} exp ( - \\cfrac{(x_k-a)^2}{2 \\sigma^2} ) $"
   ]
  },
  {
   "cell_type": "markdown",
   "id": "5a0dbef1",
   "metadata": {},
   "source": [
    "Її зазвичай зручніше записати у логарифмічній формі\n",
    "\n",
    "$ logLikelihood(x_1, ... , x_k, a, \\sigma^2)$ = $\\sum_{i=1}^k (-\\cfrac{log(2 \\pi \\sigma^2)}{2} - \\cfrac{(x_k-a)^2}{2 \\sigma^2} ) =  -\\cfrac{klog(2 \\pi \\sigma^2)}{2} - \\sum_{i=1}^k \\cfrac{(x_k-a)^2}{2 \\sigma^2}$"
   ]
  },
  {
   "cell_type": "markdown",
   "id": "5cba09de",
   "metadata": {},
   "source": [
    "Застосуємо обговорений вище \"метод максимальної правдоподібності\" :\n",
    "\n",
    "$ -\\cfrac{klog(2 \\pi \\sigma^2)}{2} - \\sum_{i=1}^k \\cfrac{(x_k-a)^2}{2 \\sigma^2} \\rightarrow max_{a, \\sigma}$\n",
    "\n",
    "$ -\\cfrac{klog(2 \\pi)}{2} -\\cfrac{klog(\\sigma^2)}{2}- \\sum_{i=1}^k \\cfrac{(x_k-a)^2}{2 \\sigma^2} \\rightarrow max_{a, \\sigma}$\n",
    "\n",
    "$ -\\cfrac{klog(2 \\pi)}{2} $ не залежить ні від a, ні від сігма, тому його можна прибрати із максимізації:\n",
    "\n",
    "$ -\\cfrac{klog(\\sigma^2)}{2}- \\sum_{i=1}^k \\cfrac{(x_k-a)^2}{2 \\sigma^2} \\rightarrow max_{a, \\sigma}$"
   ]
  },
  {
   "cell_type": "markdown",
   "id": "1e886bc1",
   "metadata": {},
   "source": [
    "Виведемо оцінку для a, взявши похідну від функції правдоподібності\n",
    "\n",
    "$ \\cfrac{d(...)}{da} = \\sum_{i=1}^k \\cfrac{2(x_k-a)(-1)}{2 \\sigma^2} = 0 $\n",
    "\n",
    "$ \\sum_{i=1}^k (a-x_k) = 0 $ \n",
    "\n",
    "$ \\sum_{i=1}^k (x_k) = k a $\n",
    "\n",
    "$ a = \\cfrac{1}{k} \\sum_{i=1}^k x_k $, що за своїм сенсом є середнім арифметичним вибірки\n",
    "\n",
    "Порахуємо оцінку за вибіркою (очікуємо, що значення будуть близькі до нуля):"
   ]
  },
  {
   "cell_type": "code",
   "execution_count": 6,
   "id": "5ce70ed7",
   "metadata": {},
   "outputs": [
    {
     "data": {
      "text/plain": [
       "0.0040775120029164095"
      ]
     },
     "execution_count": 6,
     "metadata": {},
     "output_type": "execute_result"
    }
   ],
   "source": [
    "a_est = np.mean(sample)\n",
    "a_est"
   ]
  },
  {
   "cell_type": "markdown",
   "id": "a77cc8bd",
   "metadata": {},
   "source": [
    "$ -\\cfrac{klog(\\sigma^2)}{2}- \\sum_{i=1}^k \\cfrac{(x_k-a)^2}{2 \\sigma^2} \\rightarrow max_{a, \\sigma}$\n",
    "\n",
    "Виведемо оцінку для $\\sigma^2$, взявши похідну від функції правдоподібності"
   ]
  },
  {
   "cell_type": "markdown",
   "id": "01b4c5c9",
   "metadata": {},
   "source": [
    "$ \\cfrac{d(...)}{d\\sigma^2} =  -\\cfrac{k}{2\\sigma^2} + \\sum_{i=1}^k \\cfrac{(x-a)^2}{2 \\sigma^4} = 0$\n",
    "\n",
    "скоротимо вираз на $ 2 \\sigma^2 $\n",
    "\n",
    "$ -k + \\sum_{i=1}^k \\cfrac{(x-a)^2}{\\sigma^2} = 0 $\n",
    "\n",
    "$ \\sigma^2 = \\cfrac{1}{k} \\sum_{i=1}^k (x-a)^2 $ , що за фізичним сенсом є середньоквадратичним відхиленням.\n",
    "\n",
    "Порахуємо оцінку за вибіркою (очікуємо, що значення будуть близькі до нуля):"
   ]
  },
  {
   "cell_type": "code",
   "execution_count": 8,
   "id": "88737cce",
   "metadata": {},
   "outputs": [
    {
     "data": {
      "text/plain": [
       "0.8961824492440627"
      ]
     },
     "execution_count": 8,
     "metadata": {},
     "output_type": "execute_result"
    }
   ],
   "source": [
    "sigma_sq_est = ((sample - a)**2).mean()\n",
    "sigma_sq_est"
   ]
  }
 ],
 "metadata": {
  "kernelspec": {
   "display_name": "fti_labs",
   "language": "python",
   "name": "fti_labs"
  },
  "language_info": {
   "codemirror_mode": {
    "name": "ipython",
    "version": 3
   },
   "file_extension": ".py",
   "mimetype": "text/x-python",
   "name": "python",
   "nbconvert_exporter": "python",
   "pygments_lexer": "ipython3",
   "version": "3.10.12"
  }
 },
 "nbformat": 4,
 "nbformat_minor": 5
}

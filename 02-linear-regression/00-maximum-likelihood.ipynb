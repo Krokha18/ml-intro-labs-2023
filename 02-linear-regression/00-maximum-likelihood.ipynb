{
 "cells": [
  {
   "cell_type": "code",
   "execution_count": 1,
   "id": "f27744e1",
   "metadata": {},
   "outputs": [],
   "source": [
    "import numpy as np\n",
    "import pandas as pd\n",
    "import matplotlib.pyplot as plt\n",
    "\n",
    "import scipy.stats as stats"
   ]
  },
  {
   "cell_type": "markdown",
   "id": "afe2b1f3",
   "metadata": {},
   "source": [
    "# Метод максимальної правдоподібності.\n",
    "\n",
    "Нехай в нас є випадкова величина із ймовірнісним розподілом $\\xi \\sim p(x, \\overrightarrow{\\theta})$ , де p - щільність розподілу, $\\overrightarrow{\\theta}$ - невідомі параметри розподілу\n",
    "\n",
    "Наприклад, $$\\overrightarrow{\\theta} = (a, \\sigma^2)$$ \n",
    "\n",
    "$$ p(x, a, \\sigma^2) = \\cfrac {1}{\\sqrt{2 \\pi \\sigma^2}} \\exp(\\cfrac{-(x-a)^2}{2\\sigma^2}) $$ для нормального розподілу\n",
    "\n",
    "Маємо вибірку із цього розподілу $ (x_1, x_2, ... x_k)  $ , але не знаємо значень параметрів $ (a, \\sigma^2) $"
   ]
  },
  {
   "cell_type": "code",
   "execution_count": 9,
   "id": "f8657dc4",
   "metadata": {},
   "outputs": [
    {
     "data": {
      "text/plain": [
       "array([ 0.20913641, -0.93698653,  0.40005599, -1.09246499, -1.85242231,\n",
       "       -1.19957139,  0.27827309,  0.93040736,  2.83807646, -0.94823325,\n",
       "        0.34310226,  2.42240695,  1.27521869,  0.21213446,  1.91553997,\n",
       "        0.51731272,  0.59866954,  1.2769206 , -1.98533006,  0.07542717,\n",
       "       -2.71619191, -1.53604569,  0.14359015,  0.62233523,  0.12527234,\n",
       "        2.21596676, -1.33994923, -0.72689098,  1.9717421 ,  2.13299078,\n",
       "        0.98422823,  0.34208264, -0.81391616,  1.16544224,  0.6674737 ,\n",
       "       -0.05826633, -0.44040193,  0.55210087, -1.109775  , -2.34137752,\n",
       "        0.78844668,  0.19733381, -0.5172629 , -0.06641757, -0.24058458,\n",
       "        1.32001006,  0.018403  , -1.59623551, -0.23387533, -0.81163529,\n",
       "       -0.2829652 ,  0.92229724, -0.83935197,  1.07447371,  0.07864962,\n",
       "       -1.45693329,  0.16178647, -0.8711702 , -0.14163972,  1.00485039,\n",
       "       -1.29097177, -1.7505927 , -0.64587175, -0.98458185,  0.50628604,\n",
       "       -0.7711195 , -0.81479527,  0.18647207,  0.75648064, -0.76920686,\n",
       "       -0.31348389, -0.19366543,  0.15561036,  1.4554559 ,  1.91749153,\n",
       "        0.91739237, -0.61891171, -0.90777666, -2.01135409, -0.55107829,\n",
       "       -0.3187307 ,  0.61081904, -0.40784728,  0.95943271, -0.64605618,\n",
       "        0.84140296,  0.97444973,  0.43520366, -0.17509634,  0.69788178,\n",
       "        1.18773817, -0.92205874,  0.64114199,  3.42611079,  0.44024782,\n",
       "       -0.86291893,  0.83632497, -0.43294359,  0.73686829,  2.02291411])"
      ]
     },
     "execution_count": 9,
     "metadata": {},
     "output_type": "execute_result"
    }
   ],
   "source": [
    "a = 0 #mean\n",
    "#sigma - unknown\n",
    "\n",
    "sample = np.random.normal(loc = a, size = 100)\n",
    "sample"
   ]
  },
  {
   "cell_type": "markdown",
   "id": "20432bb0",
   "metadata": {},
   "source": [
    "За вибіркою можна ввести функцію правдоподібності, яка означатиме ймовірність, що вибірка отримана із даного розподілу:\n",
    "\n",
    "$$ Likelihood(x_1, x_2, ... , x_k, \\overrightarrow{\\theta} ) = \\prod_{i=1}^{k} p(x_i, \\overrightarrow{\\theta}) $$\n",
    "\n",
    "або ще часто беруть її логарифм, для того щоб перетворити добуток на суму\n",
    "\n",
    "$$ logLikelihood(x_1, x_2, ... , x_k, \\overrightarrow{\\theta} ) = \\sum_{i=1}^{k} log p(x_i, \\overrightarrow{\\theta}) $$\n",
    "\n",
    "Ідея методу максимальної правдоподібності полягає у тому, щоб привести функцію правдоподібності до максимуму і знайти параметри розподілу, які дають максимум функції правдоподібності:\n",
    "\n",
    "$$ \\prod_{i=1}^{k} p(x_i, \\overrightarrow{\\theta}) \\rightarrow max_{\\theta} $$\n",
    "\n",
    "Або, що те ж саме, дають максимум логарифму правдоподібності:\n",
    "\n",
    "$$ \\sum_{i=1}^{k} log p(x_i, \\overrightarrow{\\theta}) \\rightarrow max_{\\theta} $$"
   ]
  },
  {
   "cell_type": "markdown",
   "id": "667d4297",
   "metadata": {},
   "source": [
    "Покажемо як змінюється правдоподібність залежно від невідомого параметра, підрахуємо правдоподібність залежно від різних сігма"
   ]
  },
  {
   "cell_type": "code",
   "execution_count": 10,
   "id": "95d00ee3",
   "metadata": {},
   "outputs": [
    {
     "data": {
      "text/plain": [
       "array([0.5, 0.6, 0.7, 0.8, 0.9, 1. , 1.1, 1.2, 1.3, 1.4, 1.5, 1.6, 1.7,\n",
       "       1.8, 1.9])"
      ]
     },
     "execution_count": 10,
     "metadata": {},
     "output_type": "execute_result"
    }
   ],
   "source": [
    "#stats.norm.pdf - щільність нормального розподілу\n",
    "\n",
    "sigma_arr = np.arange(0.5, 2.0, 0.1) #для графіку, побудуємо логарифм правдоподібності при різних sigma\n",
    "sigma_arr"
   ]
  },
  {
   "cell_type": "code",
   "execution_count": 11,
   "id": "d5df7c72",
   "metadata": {},
   "outputs": [],
   "source": [
    "def log_likelihood_normal(sample, a, sigma):\n",
    "    result = 0\n",
    "    for x in sample:\n",
    "        result += np.log(stats.norm.pdf(x, loc = a, scale = sigma))\n",
    "    return result\n",
    "\n",
    "likelihood_arr = [log_likelihood_normal(sample, a=a, sigma = val) for val in sigma_arr]"
   ]
  },
  {
   "cell_type": "markdown",
   "id": "74cf8ec6",
   "metadata": {},
   "source": [
    "Інтуїтивно за графіком можна визначити, що максимум правдоподібності приблизно при $\\sigma = 0.9$ або $\\sigma = 1.0$"
   ]
  },
  {
   "cell_type": "code",
   "execution_count": 12,
   "id": "bacc71ca",
   "metadata": {},
   "outputs": [
    {
     "data": {
      "text/plain": [
       "[<matplotlib.lines.Line2D at 0x7fbea388cf70>]"
      ]
     },
     "execution_count": 12,
     "metadata": {},
     "output_type": "execute_result"
    },
    {
     "data": {
      "image/png": "[encoded data removed]",
      "text/plain": [
       "<Figure size 640x480 with 1 Axes>"
      ]
     },
     "metadata": {},
     "output_type": "display_data"
    }
   ],
   "source": [
    "plt.plot(sigma_arr, likelihood_arr, color = 'red', marker = 'o')"
   ]
  },
  {
   "cell_type": "markdown",
   "id": "b87be6e4",
   "metadata": {},
   "source": [
    "В деяких випадках оцінки параметрів можна знайти аналітично. Зокрема, розглянемо вибірку отриману із нормального розподілу:\n",
    "\n",
    "Нехай $ (x_1, ... , x_k) $ - значення, згенеровані із розподілу $ \\xi \\sim N(a, \\sigma^2) $ . Розглянемо функцію правдоподібності для нормальної вибірки:\n",
    "\n",
    "$ Likelihood(x_1, ... , x_k, a, \\sigma^2)$ = $\\prod_{i=1}^k \\cfrac{1}{\\sqrt{2 \\pi \\sigma^2}} exp ( - \\cfrac{(x_k-a)^2}{2 \\sigma^2} ) $"
   ]
  },
  {
   "cell_type": "markdown",
   "id": "8fb1f82e",
   "metadata": {},
   "source": [
    "Її зазвичай зручніше записати у логарифмічній формі\n",
    "\n",
    "$ logLikelihood(x_1, ... , x_k, a, \\sigma^2)$ = $\\sum_{i=1}^k (-\\cfrac{log(2 \\pi \\sigma^2)}{2} - \\cfrac{(x_k-a)^2}{2 \\sigma^2} ) =  -\\cfrac{klog(2 \\pi \\sigma^2)}{2} - \\sum_{i=1}^k \\cfrac{(x_k-a)^2}{2 \\sigma^2}$"
   ]
  },
  {
   "cell_type": "markdown",
   "id": "3fbb7030",
   "metadata": {},
   "source": [
    "Застосуємо обговорений вище \"метод максимальної правдоподібності\" :\n",
    "\n",
    "$ -\\cfrac{klog(2 \\pi \\sigma^2)}{2} - \\sum_{i=1}^k \\cfrac{(x_k-a)^2}{2 \\sigma^2} \\rightarrow max_{a, \\sigma}$\n",
    "\n",
    "$ -\\cfrac{klog(2 \\pi)}{2} -\\cfrac{klog(\\sigma^2)}{2}- \\sum_{i=1}^k \\cfrac{(x_k-a)^2}{2 \\sigma^2} \\rightarrow max_{a, \\sigma}$\n",
    "\n",
    "$ -\\cfrac{klog(2 \\pi)}{2} $ не залежить ні від a, ні від сігма, тому його можна прибрати із максимізації:\n",
    "\n",
    "$ -\\cfrac{klog(\\sigma^2)}{2}- \\sum_{i=1}^k \\cfrac{(x_k-a)^2}{2 \\sigma^2} \\rightarrow max_{a, \\sigma}$"
   ]
  },
  {
   "cell_type": "markdown",
   "id": "96eec374",
   "metadata": {},
   "source": [
    "Виведемо оцінку для a, взявши похідну від функції правдоподібності\n",
    "\n",
    "$ \\cfrac{d(...)}{da} = \\sum_{i=1}^k \\cfrac{2(x_k-a)(-1)}{2 \\sigma^2} = 0 $\n",
    "\n",
    "$ \\sum_{i=1}^k (a-x_k) = 0 $ \n",
    "\n",
    "$ \\sum_{i=1}^k (x_k) = k a $\n",
    "\n",
    "$ a = \\cfrac{1}{k} \\sum_{i=1}^k x_k $, що за своїм сенсом є середнім арифметичним вибірки\n",
    "\n",
    "Порахуємо оцінку за вибіркою (очікуємо, що значення будуть близькі до нуля):"
   ]
  },
  {
   "cell_type": "code",
   "execution_count": 13,
   "id": "8567ba16",
   "metadata": {},
   "outputs": [
    {
     "data": {
      "text/plain": [
       "0.07942926231212334"
      ]
     },
     "execution_count": 13,
     "metadata": {},
     "output_type": "execute_result"
    }
   ],
   "source": [
    "a_est = np.mean(sample)\n",
    "a_est"
   ]
  },
  {
   "cell_type": "markdown",
   "id": "eba690a6",
   "metadata": {},
   "source": [
    "$ -\\cfrac{klog(\\sigma^2)}{2}- \\sum_{i=1}^k \\cfrac{(x_k-a)^2}{2 \\sigma^2} \\rightarrow max_{a, \\sigma}$\n",
    "\n",
    "Виведемо оцінку для $\\sigma^2$, взявши похідну від функції правдоподібності"
   ]
  },
  {
   "cell_type": "markdown",
   "id": "16ec4013",
   "metadata": {},
   "source": [
    "$ \\cfrac{d(...)}{d\\sigma^2} =  -\\cfrac{k}{2\\sigma^2} + \\sum_{i=1}^k \\cfrac{(x-a)^2}{2 \\sigma^4} = 0$\n",
    "\n",
    "скоротимо вираз на $ 2 \\sigma^2 $\n",
    "\n",
    "$ -k + \\sum_{i=1}^k \\cfrac{(x-a)^2}{\\sigma^2} = 0 $\n",
    "\n",
    "$ \\sigma^2 = \\cfrac{1}{k} \\sum_{i=1}^k (x-a)^2 $ , що за фізичним сенсом є середньоквадратичним відхиленням.\n",
    "\n",
    "Порахуємо оцінку за вибіркою (очікуємо, що значення будуть близькі до 0.9 або 1):"
   ]
  },
  {
   "cell_type": "code",
   "execution_count": 14,
   "id": "79906ad0",
   "metadata": {},
   "outputs": [
    {
     "data": {
      "text/plain": [
       "1.3029953346762044"
      ]
     },
     "execution_count": 14,
     "metadata": {},
     "output_type": "execute_result"
    }
   ],
   "source": [
    "sigma_sq_est = ((sample - a)**2).mean()\n",
    "sigma_sq_est"
   ]
  },
  {
   "cell_type": "code",
   "execution_count": 15,
   "id": "a7120a19",
   "metadata": {},
   "outputs": [
    {
     "data": {
      "text/plain": [
       "1.141488210484981"
      ]
     },
     "execution_count": 15,
     "metadata": {},
     "output_type": "execute_result"
    }
   ],
   "source": [
    "np.sqrt(sigma_sq_est)"
   ]
  }
 ],
 "metadata": {
  "kernelspec": {
   "display_name": "fti_labs",
   "language": "python",
   "name": "fti_labs"
  },
  "language_info": {
   "codemirror_mode": {
    "name": "ipython",
    "version": 3
   },
   "file_extension": ".py",
   "mimetype": "text/x-python",
   "name": "python",
   "nbconvert_exporter": "python",
   "pygments_lexer": "ipython3",
   "version": "3.10.12"
  }
 },
 "nbformat": 4,
 "nbformat_minor": 5
}

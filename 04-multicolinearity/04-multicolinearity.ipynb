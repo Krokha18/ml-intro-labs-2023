{
 "cells": [
  {
   "cell_type": "markdown",
   "id": "cceee66f",
   "metadata": {},
   "source": [
    "У цьому ноутбуці ми розберемо явище мультиколінеарності, та способи протидії мультиколінеарності.\n",
    "\n",
    "Мультиколінеарність можна побачити по кореляційній матриці даних (багато значень >0.9 )\n",
    "\n",
    "Розберемо типові способи протидії мультиколінеарності:\n",
    "\n",
    "1) відкидання зайвих ознак\n",
    "\n",
    "2) регуляризація (регресії Ridge, Lasso)\n",
    "\n",
    "3) перехід у новий простір ознак (метод головних компонент - PCA)"
   ]
  },
  {
   "cell_type": "code",
   "execution_count": 1,
   "id": "09837ae9",
   "metadata": {},
   "outputs": [],
   "source": [
    "import numpy as np\n",
    "import pandas as pd\n",
    "import matplotlib.pyplot as plt\n",
    "import seaborn as sns\n",
    "\n",
    "from tqdm import tqdm\n",
    "tqdm.pandas()"
   ]
  },
  {
   "cell_type": "code",
   "execution_count": 2,
   "id": "1ea77f0d",
   "metadata": {},
   "outputs": [
    {
     "data": {
      "text/html": [
       "<div>\n",
       "<style scoped>\n",
       "    .dataframe tbody tr th:only-of-type {\n",
       "        vertical-align: middle;\n",
       "    }\n",
       "\n",
       "    .dataframe tbody tr th {\n",
       "        vertical-align: top;\n",
       "    }\n",
       "\n",
       "    .dataframe thead th {\n",
       "        text-align: right;\n",
       "    }\n",
       "</style>\n",
       "<table border=\"1\" class=\"dataframe\">\n",
       "  <thead>\n",
       "    <tr style=\"text-align: right;\">\n",
       "      <th></th>\n",
       "      <th>Sex</th>\n",
       "      <th>Length</th>\n",
       "      <th>Diameter</th>\n",
       "      <th>Height</th>\n",
       "      <th>Weight</th>\n",
       "      <th>Shucked Weight</th>\n",
       "      <th>Viscera Weight</th>\n",
       "      <th>Shell Weight</th>\n",
       "      <th>Age</th>\n",
       "    </tr>\n",
       "    <tr>\n",
       "      <th>id</th>\n",
       "      <th></th>\n",
       "      <th></th>\n",
       "      <th></th>\n",
       "      <th></th>\n",
       "      <th></th>\n",
       "      <th></th>\n",
       "      <th></th>\n",
       "      <th></th>\n",
       "      <th></th>\n",
       "    </tr>\n",
       "  </thead>\n",
       "  <tbody>\n",
       "    <tr>\n",
       "      <th>0</th>\n",
       "      <td>I</td>\n",
       "      <td>1.5250</td>\n",
       "      <td>1.1750</td>\n",
       "      <td>0.3750</td>\n",
       "      <td>28.973189</td>\n",
       "      <td>12.728926</td>\n",
       "      <td>6.647958</td>\n",
       "      <td>8.348928</td>\n",
       "      <td>9</td>\n",
       "    </tr>\n",
       "    <tr>\n",
       "      <th>1</th>\n",
       "      <td>I</td>\n",
       "      <td>1.1000</td>\n",
       "      <td>0.8250</td>\n",
       "      <td>0.2750</td>\n",
       "      <td>10.418441</td>\n",
       "      <td>4.521745</td>\n",
       "      <td>2.324659</td>\n",
       "      <td>3.401940</td>\n",
       "      <td>8</td>\n",
       "    </tr>\n",
       "    <tr>\n",
       "      <th>2</th>\n",
       "      <td>M</td>\n",
       "      <td>1.3875</td>\n",
       "      <td>1.1125</td>\n",
       "      <td>0.3750</td>\n",
       "      <td>24.777463</td>\n",
       "      <td>11.339800</td>\n",
       "      <td>5.556502</td>\n",
       "      <td>6.662133</td>\n",
       "      <td>9</td>\n",
       "    </tr>\n",
       "    <tr>\n",
       "      <th>3</th>\n",
       "      <td>F</td>\n",
       "      <td>1.7000</td>\n",
       "      <td>1.4125</td>\n",
       "      <td>0.5000</td>\n",
       "      <td>50.660556</td>\n",
       "      <td>20.354941</td>\n",
       "      <td>10.991839</td>\n",
       "      <td>14.996885</td>\n",
       "      <td>11</td>\n",
       "    </tr>\n",
       "    <tr>\n",
       "      <th>4</th>\n",
       "      <td>I</td>\n",
       "      <td>1.2500</td>\n",
       "      <td>1.0125</td>\n",
       "      <td>0.3375</td>\n",
       "      <td>23.289114</td>\n",
       "      <td>11.977664</td>\n",
       "      <td>4.507570</td>\n",
       "      <td>5.953395</td>\n",
       "      <td>8</td>\n",
       "    </tr>\n",
       "  </tbody>\n",
       "</table>\n",
       "</div>"
      ],
      "text/plain": [
       "   Sex  Length  Diameter  Height     Weight  Shucked Weight  Viscera Weight  \\\n",
       "id                                                                            \n",
       "0    I  1.5250    1.1750  0.3750  28.973189       12.728926        6.647958   \n",
       "1    I  1.1000    0.8250  0.2750  10.418441        4.521745        2.324659   \n",
       "2    M  1.3875    1.1125  0.3750  24.777463       11.339800        5.556502   \n",
       "3    F  1.7000    1.4125  0.5000  50.660556       20.354941       10.991839   \n",
       "4    I  1.2500    1.0125  0.3375  23.289114       11.977664        4.507570   \n",
       "\n",
       "    Shell Weight  Age  \n",
       "id                     \n",
       "0       8.348928    9  \n",
       "1       3.401940    8  \n",
       "2       6.662133    9  \n",
       "3      14.996885   11  \n",
       "4       5.953395    8  "
      ]
     },
     "execution_count": 2,
     "metadata": {},
     "output_type": "execute_result"
    }
   ],
   "source": [
    "data = pd.read_csv(\"train.csv\", index_col = 'id')\n",
    "data.head()"
   ]
  },
  {
   "cell_type": "code",
   "execution_count": 3,
   "id": "c2b14049",
   "metadata": {},
   "outputs": [],
   "source": [
    "data['Weight2'] = 2.2 * data['Weight']"
   ]
  },
  {
   "cell_type": "code",
   "execution_count": 4,
   "id": "03201d80",
   "metadata": {},
   "outputs": [
    {
     "data": {
      "text/plain": [
       "['Diameter',\n",
       " 'Height',\n",
       " 'Length',\n",
       " 'Shell Weight',\n",
       " 'Shucked Weight',\n",
       " 'Viscera Weight',\n",
       " 'Weight',\n",
       " 'Weight2']"
      ]
     },
     "execution_count": 4,
     "metadata": {},
     "output_type": "execute_result"
    }
   ],
   "source": [
    "categorical = ['Sex']\n",
    "target = 'Age'\n",
    "numerical = data.columns.difference(categorical+[target]).tolist()\n",
    "\n",
    "numerical"
   ]
  },
  {
   "cell_type": "markdown",
   "id": "ea4382b5",
   "metadata": {},
   "source": [
    "Outlier removal"
   ]
  },
  {
   "cell_type": "code",
   "execution_count": 5,
   "id": "bcf5bc62",
   "metadata": {},
   "outputs": [],
   "source": [
    "for col in numerical:\n",
    "    mean, std = data[col].mean(), data[col].std()\n",
    "    data = data[(data[col]>=mean-3*std) & (data[col]<=mean+3*std) ]"
   ]
  },
  {
   "cell_type": "code",
   "execution_count": 6,
   "id": "f6a7e48a",
   "metadata": {},
   "outputs": [
    {
     "data": {
      "text/plain": [
       "<Axes: >"
      ]
     },
     "execution_count": 6,
     "metadata": {},
     "output_type": "execute_result"
    },
    {
     "data": {
      "image/png": "[encoded data removed]",
      "text/plain": [
       "<Figure size 640x480 with 2 Axes>"
      ]
     },
     "metadata": {},
     "output_type": "display_data"
    }
   ],
   "source": [
    "sns.heatmap(data[numerical].corr(), cmap = 'coolwarm', annot = True)"
   ]
  },
  {
   "cell_type": "markdown",
   "id": "cd79110b",
   "metadata": {},
   "source": [
    "По матриці кореляцій можна бачити, що в даних висока мультиколінеарність (практично всі змінні корелюють одна із одною із $ r_{ij} >=0.9 $"
   ]
  },
  {
   "cell_type": "code",
   "execution_count": 7,
   "id": "a7bb0f70",
   "metadata": {},
   "outputs": [
    {
     "data": {
      "text/plain": [
       "Shell Weight      0.656651\n",
       "Height            0.631618\n",
       "Diameter          0.604809\n",
       "Length            0.596143\n",
       "Weight            0.592567\n",
       "Weight2           0.592567\n",
       "Viscera Weight    0.566489\n",
       "Shucked Weight    0.491911\n",
       "dtype: float64"
      ]
     },
     "execution_count": 7,
     "metadata": {},
     "output_type": "execute_result"
    }
   ],
   "source": [
    "data[numerical].corrwith(data[target]).sort_values(ascending=False)"
   ]
  },
  {
   "cell_type": "markdown",
   "id": "cc411e5f",
   "metadata": {},
   "source": [
    "### Чи впливає стандартизація на кореляцію в даних?\n",
    "\n",
    "$$ X_{stded} = \\cfrac{X - \\mu}{\\sigma} $$"
   ]
  },
  {
   "cell_type": "code",
   "execution_count": 8,
   "id": "e3d42335",
   "metadata": {},
   "outputs": [],
   "source": [
    "## standartization\n",
    "data_stded = data.copy()\n",
    "\n",
    "for col in numerical:\n",
    "    mean, std = data_stded[col].mean(), data_stded[col].std()\n",
    "    data_stded[col] = (data_stded[col] - mean)/(std)"
   ]
  },
  {
   "cell_type": "code",
   "execution_count": 9,
   "id": "fff07b3b",
   "metadata": {},
   "outputs": [
    {
     "data": {
      "text/plain": [
       "'\\nfrom sklearn.preprocessing import StandardScaler\\nstd_scaler = StandartScaler()\\ndata_stded_arr = std_scaler.fit_transform(data[numerical]) #тут отримуємо np.array із нормалізованими колонками\\ndata_stded = pd.DataFrame(data_stded, columns = numerical) #повертаємо назви колонок\\n\\n#категорійні колонки не змінюємо\\nfor cat_col in categorical:\\n    data_stded[cat_col] = data[cat_col]\\n'"
      ]
     },
     "execution_count": 9,
     "metadata": {},
     "output_type": "execute_result"
    }
   ],
   "source": [
    "#спосіб зробити те саме, але через sklearn\n",
    "\"\"\"\n",
    "from sklearn.preprocessing import StandardScaler\n",
    "std_scaler = StandartScaler()\n",
    "data_stded_arr = std_scaler.fit_transform(data[numerical]) #тут отримуємо np.array із нормалізованими колонками\n",
    "data_stded = pd.DataFrame(data_stded, columns = numerical) #повертаємо назви колонок\n",
    "\n",
    "#категорійні колонки не змінюємо\n",
    "for cat_col in categorical:\n",
    "    data_stded[cat_col] = data[cat_col]\n",
    "\"\"\""
   ]
  },
  {
   "cell_type": "markdown",
   "id": "a888e14a",
   "metadata": {},
   "source": [
    "### Дивимось, чи змінилася матриця кореляції при стандартизації даних"
   ]
  },
  {
   "cell_type": "code",
   "execution_count": 10,
   "id": "97c7de98",
   "metadata": {},
   "outputs": [
    {
     "data": {
      "text/html": [
       "<div>\n",
       "<style scoped>\n",
       "    .dataframe tbody tr th:only-of-type {\n",
       "        vertical-align: middle;\n",
       "    }\n",
       "\n",
       "    .dataframe tbody tr th {\n",
       "        vertical-align: top;\n",
       "    }\n",
       "\n",
       "    .dataframe thead th {\n",
       "        text-align: right;\n",
       "    }\n",
       "</style>\n",
       "<table border=\"1\" class=\"dataframe\">\n",
       "  <thead>\n",
       "    <tr style=\"text-align: right;\">\n",
       "      <th></th>\n",
       "      <th>Diameter</th>\n",
       "      <th>Height</th>\n",
       "      <th>Length</th>\n",
       "      <th>Shell Weight</th>\n",
       "      <th>Shucked Weight</th>\n",
       "      <th>Viscera Weight</th>\n",
       "      <th>Weight</th>\n",
       "      <th>Weight2</th>\n",
       "    </tr>\n",
       "  </thead>\n",
       "  <tbody>\n",
       "    <tr>\n",
       "      <th>Diameter</th>\n",
       "      <td>0.0</td>\n",
       "      <td>0.0</td>\n",
       "      <td>-0.0</td>\n",
       "      <td>0.0</td>\n",
       "      <td>0.0</td>\n",
       "      <td>-0.0</td>\n",
       "      <td>-0.0</td>\n",
       "      <td>-0.0</td>\n",
       "    </tr>\n",
       "    <tr>\n",
       "      <th>Height</th>\n",
       "      <td>0.0</td>\n",
       "      <td>0.0</td>\n",
       "      <td>-0.0</td>\n",
       "      <td>0.0</td>\n",
       "      <td>-0.0</td>\n",
       "      <td>0.0</td>\n",
       "      <td>-0.0</td>\n",
       "      <td>-0.0</td>\n",
       "    </tr>\n",
       "    <tr>\n",
       "      <th>Length</th>\n",
       "      <td>-0.0</td>\n",
       "      <td>-0.0</td>\n",
       "      <td>0.0</td>\n",
       "      <td>-0.0</td>\n",
       "      <td>0.0</td>\n",
       "      <td>-0.0</td>\n",
       "      <td>-0.0</td>\n",
       "      <td>-0.0</td>\n",
       "    </tr>\n",
       "    <tr>\n",
       "      <th>Shell Weight</th>\n",
       "      <td>0.0</td>\n",
       "      <td>0.0</td>\n",
       "      <td>-0.0</td>\n",
       "      <td>0.0</td>\n",
       "      <td>0.0</td>\n",
       "      <td>0.0</td>\n",
       "      <td>0.0</td>\n",
       "      <td>-0.0</td>\n",
       "    </tr>\n",
       "    <tr>\n",
       "      <th>Shucked Weight</th>\n",
       "      <td>0.0</td>\n",
       "      <td>-0.0</td>\n",
       "      <td>0.0</td>\n",
       "      <td>0.0</td>\n",
       "      <td>0.0</td>\n",
       "      <td>0.0</td>\n",
       "      <td>-0.0</td>\n",
       "      <td>-0.0</td>\n",
       "    </tr>\n",
       "    <tr>\n",
       "      <th>Viscera Weight</th>\n",
       "      <td>-0.0</td>\n",
       "      <td>0.0</td>\n",
       "      <td>-0.0</td>\n",
       "      <td>0.0</td>\n",
       "      <td>0.0</td>\n",
       "      <td>0.0</td>\n",
       "      <td>-0.0</td>\n",
       "      <td>-0.0</td>\n",
       "    </tr>\n",
       "    <tr>\n",
       "      <th>Weight</th>\n",
       "      <td>-0.0</td>\n",
       "      <td>-0.0</td>\n",
       "      <td>-0.0</td>\n",
       "      <td>0.0</td>\n",
       "      <td>-0.0</td>\n",
       "      <td>-0.0</td>\n",
       "      <td>0.0</td>\n",
       "      <td>-0.0</td>\n",
       "    </tr>\n",
       "    <tr>\n",
       "      <th>Weight2</th>\n",
       "      <td>-0.0</td>\n",
       "      <td>-0.0</td>\n",
       "      <td>-0.0</td>\n",
       "      <td>-0.0</td>\n",
       "      <td>-0.0</td>\n",
       "      <td>-0.0</td>\n",
       "      <td>-0.0</td>\n",
       "      <td>0.0</td>\n",
       "    </tr>\n",
       "  </tbody>\n",
       "</table>\n",
       "</div>"
      ],
      "text/plain": [
       "                Diameter  Height  Length  Shell Weight  Shucked Weight  \\\n",
       "Diameter             0.0     0.0    -0.0           0.0             0.0   \n",
       "Height               0.0     0.0    -0.0           0.0            -0.0   \n",
       "Length              -0.0    -0.0     0.0          -0.0             0.0   \n",
       "Shell Weight         0.0     0.0    -0.0           0.0             0.0   \n",
       "Shucked Weight       0.0    -0.0     0.0           0.0             0.0   \n",
       "Viscera Weight      -0.0     0.0    -0.0           0.0             0.0   \n",
       "Weight              -0.0    -0.0    -0.0           0.0            -0.0   \n",
       "Weight2             -0.0    -0.0    -0.0          -0.0            -0.0   \n",
       "\n",
       "                Viscera Weight  Weight  Weight2  \n",
       "Diameter                  -0.0    -0.0     -0.0  \n",
       "Height                     0.0    -0.0     -0.0  \n",
       "Length                    -0.0    -0.0     -0.0  \n",
       "Shell Weight               0.0     0.0     -0.0  \n",
       "Shucked Weight             0.0    -0.0     -0.0  \n",
       "Viscera Weight             0.0    -0.0     -0.0  \n",
       "Weight                    -0.0     0.0     -0.0  \n",
       "Weight2                   -0.0    -0.0      0.0  "
      ]
     },
     "execution_count": 10,
     "metadata": {},
     "output_type": "execute_result"
    }
   ],
   "source": [
    "(data[numerical].corr() - data_stded[numerical].corr()).round(5)"
   ]
  },
  {
   "cell_type": "markdown",
   "id": "f42213a2",
   "metadata": {},
   "source": [
    "### Чи змінюється кореляція даних при mix-max нормуванні?\n",
    "\n",
    "$$ X_{normed} = \\cfrac{X - X_{min}}{X_{max}-X_{min}} $$"
   ]
  },
  {
   "cell_type": "code",
   "execution_count": 11,
   "id": "593ddeb2",
   "metadata": {},
   "outputs": [],
   "source": [
    "## normalization\n",
    "data_normed = data.copy()\n",
    "\n",
    "for col in numerical:\n",
    "    min_, max_ = data_normed[col].min(), data_normed[col].max()\n",
    "    data_normed[col] = (data_normed[col] - min_)/(max_ - min_)"
   ]
  },
  {
   "cell_type": "code",
   "execution_count": 12,
   "id": "c7e1a5ba",
   "metadata": {},
   "outputs": [
    {
     "data": {
      "text/plain": [
       "'\\nfrom sklearn.preprocessing import MinMaxScaler\\nminmax_scaler = MinMaxScaler()\\ndata_normed_arr = minmax_scaler.fit_transform(data[numerical]) #тут отримуємо np.array із нормалізованими колонками\\ndata_normed = pd.DataFrame(data_normed, columns = numerical) #повертаємо назви колонок\\n\\n#категорійні колонки не змінюємо\\nfor cat_col in categorical:\\n    data_normed[cat_col] = data[cat_col]\\n'"
      ]
     },
     "execution_count": 12,
     "metadata": {},
     "output_type": "execute_result"
    }
   ],
   "source": [
    "#спосіб зробити те саме, але через sklearn\n",
    "\"\"\"\n",
    "from sklearn.preprocessing import MinMaxScaler\n",
    "minmax_scaler = MinMaxScaler()\n",
    "data_normed_arr = minmax_scaler.fit_transform(data[numerical]) #тут отримуємо np.array із нормалізованими колонками\n",
    "data_normed = pd.DataFrame(data_normed, columns = numerical) #повертаємо назви колонок\n",
    "\n",
    "#категорійні колонки не змінюємо\n",
    "for cat_col in categorical:\n",
    "    data_normed[cat_col] = data[cat_col]\n",
    "\"\"\""
   ]
  },
  {
   "cell_type": "code",
   "execution_count": 13,
   "id": "e5dc6c37",
   "metadata": {},
   "outputs": [
    {
     "data": {
      "text/html": [
       "<div>\n",
       "<style scoped>\n",
       "    .dataframe tbody tr th:only-of-type {\n",
       "        vertical-align: middle;\n",
       "    }\n",
       "\n",
       "    .dataframe tbody tr th {\n",
       "        vertical-align: top;\n",
       "    }\n",
       "\n",
       "    .dataframe thead th {\n",
       "        text-align: right;\n",
       "    }\n",
       "</style>\n",
       "<table border=\"1\" class=\"dataframe\">\n",
       "  <thead>\n",
       "    <tr style=\"text-align: right;\">\n",
       "      <th></th>\n",
       "      <th>Diameter</th>\n",
       "      <th>Height</th>\n",
       "      <th>Length</th>\n",
       "      <th>Shell Weight</th>\n",
       "      <th>Shucked Weight</th>\n",
       "      <th>Viscera Weight</th>\n",
       "      <th>Weight</th>\n",
       "      <th>Weight2</th>\n",
       "    </tr>\n",
       "  </thead>\n",
       "  <tbody>\n",
       "    <tr>\n",
       "      <th>Diameter</th>\n",
       "      <td>0.0</td>\n",
       "      <td>-0.0</td>\n",
       "      <td>-0.0</td>\n",
       "      <td>-0.0</td>\n",
       "      <td>0.0</td>\n",
       "      <td>-0.0</td>\n",
       "      <td>-0.0</td>\n",
       "      <td>-0.0</td>\n",
       "    </tr>\n",
       "    <tr>\n",
       "      <th>Height</th>\n",
       "      <td>-0.0</td>\n",
       "      <td>0.0</td>\n",
       "      <td>0.0</td>\n",
       "      <td>-0.0</td>\n",
       "      <td>-0.0</td>\n",
       "      <td>-0.0</td>\n",
       "      <td>-0.0</td>\n",
       "      <td>-0.0</td>\n",
       "    </tr>\n",
       "    <tr>\n",
       "      <th>Length</th>\n",
       "      <td>-0.0</td>\n",
       "      <td>0.0</td>\n",
       "      <td>0.0</td>\n",
       "      <td>-0.0</td>\n",
       "      <td>-0.0</td>\n",
       "      <td>-0.0</td>\n",
       "      <td>-0.0</td>\n",
       "      <td>0.0</td>\n",
       "    </tr>\n",
       "    <tr>\n",
       "      <th>Shell Weight</th>\n",
       "      <td>-0.0</td>\n",
       "      <td>-0.0</td>\n",
       "      <td>-0.0</td>\n",
       "      <td>0.0</td>\n",
       "      <td>-0.0</td>\n",
       "      <td>-0.0</td>\n",
       "      <td>-0.0</td>\n",
       "      <td>-0.0</td>\n",
       "    </tr>\n",
       "    <tr>\n",
       "      <th>Shucked Weight</th>\n",
       "      <td>0.0</td>\n",
       "      <td>-0.0</td>\n",
       "      <td>-0.0</td>\n",
       "      <td>-0.0</td>\n",
       "      <td>0.0</td>\n",
       "      <td>0.0</td>\n",
       "      <td>-0.0</td>\n",
       "      <td>-0.0</td>\n",
       "    </tr>\n",
       "    <tr>\n",
       "      <th>Viscera Weight</th>\n",
       "      <td>-0.0</td>\n",
       "      <td>-0.0</td>\n",
       "      <td>-0.0</td>\n",
       "      <td>-0.0</td>\n",
       "      <td>0.0</td>\n",
       "      <td>0.0</td>\n",
       "      <td>-0.0</td>\n",
       "      <td>-0.0</td>\n",
       "    </tr>\n",
       "    <tr>\n",
       "      <th>Weight</th>\n",
       "      <td>-0.0</td>\n",
       "      <td>-0.0</td>\n",
       "      <td>-0.0</td>\n",
       "      <td>-0.0</td>\n",
       "      <td>-0.0</td>\n",
       "      <td>-0.0</td>\n",
       "      <td>0.0</td>\n",
       "      <td>-0.0</td>\n",
       "    </tr>\n",
       "    <tr>\n",
       "      <th>Weight2</th>\n",
       "      <td>-0.0</td>\n",
       "      <td>-0.0</td>\n",
       "      <td>0.0</td>\n",
       "      <td>-0.0</td>\n",
       "      <td>-0.0</td>\n",
       "      <td>-0.0</td>\n",
       "      <td>-0.0</td>\n",
       "      <td>0.0</td>\n",
       "    </tr>\n",
       "  </tbody>\n",
       "</table>\n",
       "</div>"
      ],
      "text/plain": [
       "                Diameter  Height  Length  Shell Weight  Shucked Weight  \\\n",
       "Diameter             0.0    -0.0    -0.0          -0.0             0.0   \n",
       "Height              -0.0     0.0     0.0          -0.0            -0.0   \n",
       "Length              -0.0     0.0     0.0          -0.0            -0.0   \n",
       "Shell Weight        -0.0    -0.0    -0.0           0.0            -0.0   \n",
       "Shucked Weight       0.0    -0.0    -0.0          -0.0             0.0   \n",
       "Viscera Weight      -0.0    -0.0    -0.0          -0.0             0.0   \n",
       "Weight              -0.0    -0.0    -0.0          -0.0            -0.0   \n",
       "Weight2             -0.0    -0.0     0.0          -0.0            -0.0   \n",
       "\n",
       "                Viscera Weight  Weight  Weight2  \n",
       "Diameter                  -0.0    -0.0     -0.0  \n",
       "Height                    -0.0    -0.0     -0.0  \n",
       "Length                    -0.0    -0.0      0.0  \n",
       "Shell Weight              -0.0    -0.0     -0.0  \n",
       "Shucked Weight             0.0    -0.0     -0.0  \n",
       "Viscera Weight             0.0    -0.0     -0.0  \n",
       "Weight                    -0.0     0.0     -0.0  \n",
       "Weight2                   -0.0    -0.0      0.0  "
      ]
     },
     "execution_count": 13,
     "metadata": {},
     "output_type": "execute_result"
    }
   ],
   "source": [
    "(data[numerical].corr() - data_normed[numerical].corr()).round(5)"
   ]
  },
  {
   "cell_type": "markdown",
   "id": "2683a6d7",
   "metadata": {},
   "source": [
    "Надалі в цьому ноутбуці, будемо вважати що ми вже привели дані до одної шкали і будемо в основному користуватись data_stded."
   ]
  },
  {
   "cell_type": "code",
   "execution_count": 14,
   "id": "08c869a4",
   "metadata": {},
   "outputs": [],
   "source": [
    "from sklearn.model_selection import train_test_split\n",
    "from sklearn.metrics import r2_score\n",
    "\n",
    "\n",
    "X_train, X_test, y_train, y_test = train_test_split(data_stded[numerical], data_stded[target], test_size=0.2)"
   ]
  },
  {
   "cell_type": "code",
   "execution_count": 15,
   "id": "fa7029f5",
   "metadata": {},
   "outputs": [],
   "source": [
    "models_list = dict()\n",
    "y_test_pred_list = dict()"
   ]
  },
  {
   "cell_type": "markdown",
   "id": "879365f2",
   "metadata": {},
   "source": [
    "Побудуємо типову модель лінійної регресії на всіх змінних, щоб далі нам було від чого відштовхуватись:"
   ]
  },
  {
   "cell_type": "code",
   "execution_count": 16,
   "id": "5b457743",
   "metadata": {},
   "outputs": [
    {
     "data": {
      "text/plain": [
       "(9.998586016662864,\n",
       " array([ 0.5266667 ,  0.78730813,  0.18481344,  1.95081612, -3.49997176,\n",
       "        -0.56378598,  1.25883864,  1.25883864]))"
      ]
     },
     "execution_count": 16,
     "metadata": {},
     "output_type": "execute_result"
    }
   ],
   "source": [
    "from sklearn.linear_model import LinearRegression\n",
    "\n",
    "key = \"lr_basic\"\n",
    "\n",
    "lr = LinearRegression(fit_intercept = True)\n",
    "lr.fit(X_train, y_train)\n",
    "\n",
    "y_test_pred = lr.predict(X_test)\n",
    "\n",
    "models_list[key] = lr; y_test_pred_list[key] = y_test_pred\n",
    "\n",
    "lr.intercept_, lr.coef_"
   ]
  },
  {
   "cell_type": "code",
   "execution_count": 17,
   "id": "9b16f28a",
   "metadata": {},
   "outputs": [
    {
     "data": {
      "text/plain": [
       "0.5398301425539878"
      ]
     },
     "execution_count": 17,
     "metadata": {},
     "output_type": "execute_result"
    }
   ],
   "source": [
    "r2_score(y_test, y_test_pred)"
   ]
  },
  {
   "cell_type": "markdown",
   "id": "ed0e88d3",
   "metadata": {},
   "source": [
    "### 1) Відкидання непотрібних змінних\n",
    "\n",
    "Якщо знаходимо деяку пару змінних, яка корелює більше ніж 0.95, з двох залишаємо тільки одну"
   ]
  },
  {
   "cell_type": "code",
   "execution_count": 18,
   "id": "00a33369",
   "metadata": {},
   "outputs": [
    {
     "data": {
      "text/html": [
       "<div>\n",
       "<style scoped>\n",
       "    .dataframe tbody tr th:only-of-type {\n",
       "        vertical-align: middle;\n",
       "    }\n",
       "\n",
       "    .dataframe tbody tr th {\n",
       "        vertical-align: top;\n",
       "    }\n",
       "\n",
       "    .dataframe thead th {\n",
       "        text-align: right;\n",
       "    }\n",
       "</style>\n",
       "<table border=\"1\" class=\"dataframe\">\n",
       "  <thead>\n",
       "    <tr style=\"text-align: right;\">\n",
       "      <th></th>\n",
       "      <th>Diameter</th>\n",
       "      <th>Height</th>\n",
       "      <th>Length</th>\n",
       "      <th>Shell Weight</th>\n",
       "      <th>Shucked Weight</th>\n",
       "      <th>Viscera Weight</th>\n",
       "      <th>Weight</th>\n",
       "      <th>Weight2</th>\n",
       "    </tr>\n",
       "  </thead>\n",
       "  <tbody>\n",
       "    <tr>\n",
       "      <th>Diameter</th>\n",
       "      <td>1.000000</td>\n",
       "      <td>0.926574</td>\n",
       "      <td>0.988612</td>\n",
       "      <td>0.931290</td>\n",
       "      <td>0.922352</td>\n",
       "      <td>0.924601</td>\n",
       "      <td>0.946702</td>\n",
       "      <td>0.946702</td>\n",
       "    </tr>\n",
       "    <tr>\n",
       "      <th>Height</th>\n",
       "      <td>0.926574</td>\n",
       "      <td>1.000000</td>\n",
       "      <td>0.923362</td>\n",
       "      <td>0.917791</td>\n",
       "      <td>0.875032</td>\n",
       "      <td>0.894427</td>\n",
       "      <td>0.914686</td>\n",
       "      <td>0.914686</td>\n",
       "    </tr>\n",
       "    <tr>\n",
       "      <th>Length</th>\n",
       "      <td>0.988612</td>\n",
       "      <td>0.923362</td>\n",
       "      <td>1.000000</td>\n",
       "      <td>0.925976</td>\n",
       "      <td>0.924567</td>\n",
       "      <td>0.924911</td>\n",
       "      <td>0.945560</td>\n",
       "      <td>0.945560</td>\n",
       "    </tr>\n",
       "    <tr>\n",
       "      <th>Shell Weight</th>\n",
       "      <td>0.931290</td>\n",
       "      <td>0.917791</td>\n",
       "      <td>0.925976</td>\n",
       "      <td>1.000000</td>\n",
       "      <td>0.911086</td>\n",
       "      <td>0.933717</td>\n",
       "      <td>0.966062</td>\n",
       "      <td>0.966062</td>\n",
       "    </tr>\n",
       "    <tr>\n",
       "      <th>Shucked Weight</th>\n",
       "      <td>0.922352</td>\n",
       "      <td>0.875032</td>\n",
       "      <td>0.924567</td>\n",
       "      <td>0.911086</td>\n",
       "      <td>1.000000</td>\n",
       "      <td>0.941349</td>\n",
       "      <td>0.970946</td>\n",
       "      <td>0.970946</td>\n",
       "    </tr>\n",
       "    <tr>\n",
       "      <th>Viscera Weight</th>\n",
       "      <td>0.924601</td>\n",
       "      <td>0.894427</td>\n",
       "      <td>0.924911</td>\n",
       "      <td>0.933717</td>\n",
       "      <td>0.941349</td>\n",
       "      <td>1.000000</td>\n",
       "      <td>0.970412</td>\n",
       "      <td>0.970412</td>\n",
       "    </tr>\n",
       "    <tr>\n",
       "      <th>Weight</th>\n",
       "      <td>0.946702</td>\n",
       "      <td>0.914686</td>\n",
       "      <td>0.945560</td>\n",
       "      <td>0.966062</td>\n",
       "      <td>0.970946</td>\n",
       "      <td>0.970412</td>\n",
       "      <td>1.000000</td>\n",
       "      <td>1.000000</td>\n",
       "    </tr>\n",
       "    <tr>\n",
       "      <th>Weight2</th>\n",
       "      <td>0.946702</td>\n",
       "      <td>0.914686</td>\n",
       "      <td>0.945560</td>\n",
       "      <td>0.966062</td>\n",
       "      <td>0.970946</td>\n",
       "      <td>0.970412</td>\n",
       "      <td>1.000000</td>\n",
       "      <td>1.000000</td>\n",
       "    </tr>\n",
       "  </tbody>\n",
       "</table>\n",
       "</div>"
      ],
      "text/plain": [
       "                Diameter    Height    Length  Shell Weight  Shucked Weight  \\\n",
       "Diameter        1.000000  0.926574  0.988612      0.931290        0.922352   \n",
       "Height          0.926574  1.000000  0.923362      0.917791        0.875032   \n",
       "Length          0.988612  0.923362  1.000000      0.925976        0.924567   \n",
       "Shell Weight    0.931290  0.917791  0.925976      1.000000        0.911086   \n",
       "Shucked Weight  0.922352  0.875032  0.924567      0.911086        1.000000   \n",
       "Viscera Weight  0.924601  0.894427  0.924911      0.933717        0.941349   \n",
       "Weight          0.946702  0.914686  0.945560      0.966062        0.970946   \n",
       "Weight2         0.946702  0.914686  0.945560      0.966062        0.970946   \n",
       "\n",
       "                Viscera Weight    Weight   Weight2  \n",
       "Diameter              0.924601  0.946702  0.946702  \n",
       "Height                0.894427  0.914686  0.914686  \n",
       "Length                0.924911  0.945560  0.945560  \n",
       "Shell Weight          0.933717  0.966062  0.966062  \n",
       "Shucked Weight        0.941349  0.970946  0.970946  \n",
       "Viscera Weight        1.000000  0.970412  0.970412  \n",
       "Weight                0.970412  1.000000  1.000000  \n",
       "Weight2               0.970412  1.000000  1.000000  "
      ]
     },
     "execution_count": 18,
     "metadata": {},
     "output_type": "execute_result"
    }
   ],
   "source": [
    "data[numerical].corr()"
   ]
  },
  {
   "cell_type": "code",
   "execution_count": 19,
   "id": "d0cae8db",
   "metadata": {},
   "outputs": [
    {
     "data": {
      "text/html": [
       "<div>\n",
       "<style scoped>\n",
       "    .dataframe tbody tr th:only-of-type {\n",
       "        vertical-align: middle;\n",
       "    }\n",
       "\n",
       "    .dataframe tbody tr th {\n",
       "        vertical-align: top;\n",
       "    }\n",
       "\n",
       "    .dataframe thead th {\n",
       "        text-align: right;\n",
       "    }\n",
       "</style>\n",
       "<table border=\"1\" class=\"dataframe\">\n",
       "  <thead>\n",
       "    <tr style=\"text-align: right;\">\n",
       "      <th></th>\n",
       "      <th>Diameter</th>\n",
       "      <th>Height</th>\n",
       "      <th>Shell Weight</th>\n",
       "      <th>Shucked Weight</th>\n",
       "      <th>Viscera Weight</th>\n",
       "    </tr>\n",
       "  </thead>\n",
       "  <tbody>\n",
       "    <tr>\n",
       "      <th>Diameter</th>\n",
       "      <td>1.000000</td>\n",
       "      <td>0.926574</td>\n",
       "      <td>0.931290</td>\n",
       "      <td>0.922352</td>\n",
       "      <td>0.924601</td>\n",
       "    </tr>\n",
       "    <tr>\n",
       "      <th>Height</th>\n",
       "      <td>0.926574</td>\n",
       "      <td>1.000000</td>\n",
       "      <td>0.917791</td>\n",
       "      <td>0.875032</td>\n",
       "      <td>0.894427</td>\n",
       "    </tr>\n",
       "    <tr>\n",
       "      <th>Shell Weight</th>\n",
       "      <td>0.931290</td>\n",
       "      <td>0.917791</td>\n",
       "      <td>1.000000</td>\n",
       "      <td>0.911086</td>\n",
       "      <td>0.933717</td>\n",
       "    </tr>\n",
       "    <tr>\n",
       "      <th>Shucked Weight</th>\n",
       "      <td>0.922352</td>\n",
       "      <td>0.875032</td>\n",
       "      <td>0.911086</td>\n",
       "      <td>1.000000</td>\n",
       "      <td>0.941349</td>\n",
       "    </tr>\n",
       "    <tr>\n",
       "      <th>Viscera Weight</th>\n",
       "      <td>0.924601</td>\n",
       "      <td>0.894427</td>\n",
       "      <td>0.933717</td>\n",
       "      <td>0.941349</td>\n",
       "      <td>1.000000</td>\n",
       "    </tr>\n",
       "  </tbody>\n",
       "</table>\n",
       "</div>"
      ],
      "text/plain": [
       "                Diameter    Height  Shell Weight  Shucked Weight  \\\n",
       "Diameter        1.000000  0.926574      0.931290        0.922352   \n",
       "Height          0.926574  1.000000      0.917791        0.875032   \n",
       "Shell Weight    0.931290  0.917791      1.000000        0.911086   \n",
       "Shucked Weight  0.922352  0.875032      0.911086        1.000000   \n",
       "Viscera Weight  0.924601  0.894427      0.933717        0.941349   \n",
       "\n",
       "                Viscera Weight  \n",
       "Diameter              0.924601  \n",
       "Height                0.894427  \n",
       "Shell Weight          0.933717  \n",
       "Shucked Weight        0.941349  \n",
       "Viscera Weight        1.000000  "
      ]
     },
     "execution_count": 19,
     "metadata": {},
     "output_type": "execute_result"
    }
   ],
   "source": [
    "relevant_cols = [\"Diameter\", 'Height', \"Shell Weight\", \"Shucked Weight\", 'Viscera Weight']\n",
    "data[relevant_cols].corr()"
   ]
  },
  {
   "cell_type": "code",
   "execution_count": 20,
   "id": "ef105dc5",
   "metadata": {},
   "outputs": [
    {
     "data": {
      "text/plain": [
       "(9.99825414901893,\n",
       " array([ 0.77369788,  0.81879596,  2.81360514, -2.51010935,  0.05626137]))"
      ]
     },
     "execution_count": 20,
     "metadata": {},
     "output_type": "execute_result"
    }
   ],
   "source": [
    "from sklearn.linear_model import LinearRegression\n",
    "\n",
    "key = \"lr_cutted\"\n",
    "\n",
    "lr = LinearRegression(fit_intercept = True)\n",
    "lr.fit(X_train[relevant_cols], y_train)\n",
    "\n",
    "y_test_pred = lr.predict(X_test[relevant_cols])\n",
    "\n",
    "models_list[key] = lr; y_test_pred_list[key] = y_test_pred\n",
    "\n",
    "lr.intercept_, lr.coef_"
   ]
  },
  {
   "cell_type": "code",
   "execution_count": 21,
   "id": "f1cf0f4f",
   "metadata": {},
   "outputs": [
    {
     "data": {
      "text/plain": [
       "0.5293088953397962"
      ]
     },
     "execution_count": 21,
     "metadata": {},
     "output_type": "execute_result"
    }
   ],
   "source": [
    "r2_score(y_test, y_test_pred)"
   ]
  },
  {
   "cell_type": "markdown",
   "id": "2331adaf",
   "metadata": {},
   "source": [
    "Видалення змінних може допомогти, може - і ні;\n",
    "\n",
    "В даному випадку бачимо, що видалення змінних по взаємній колінеарності сильно не змінює ситуацію"
   ]
  },
  {
   "cell_type": "markdown",
   "id": "726f758a",
   "metadata": {},
   "source": [
    "### 2. Регуляризація\n",
    "\n",
    "Альтернативами звичайній лінійній регресії є регуляризовані моделі Ridge і Lasso\n",
    "\n",
    "LinearRegression: $ || X \\beta - y ||^2 \\rightarrow min_{\\beta} $\n",
    "\n",
    "Ridge: $ || X \\beta - y ||^2 + \\lambda \\sum_{i=1}^n \\beta_i^2 \\rightarrow min_{\\beta} $\n",
    "\n",
    "Lasso: $ || X \\beta - y ||^2 + \\lambda \\sum_{i=1}^n | \\beta_i | \\rightarrow min_{\\beta} $\n",
    "\n",
    "Змінюючи $ \\lambda $ , можемо змінювати силу регуляризації"
   ]
  },
  {
   "cell_type": "code",
   "execution_count": 22,
   "id": "8d31d16c",
   "metadata": {},
   "outputs": [
    {
     "name": "stdout",
     "output_type": "stream",
     "text": [
      "alpha = 1e-05, r2_score = 0.53983, coef = [ 0.52667  0.78731  0.18481  1.95082 -3.49997 -0.56379  1.25884  1.25884]\n",
      "alpha = 0.001, r2_score = 0.53983, coef = [ 0.52667  0.78731  0.18481  1.95082 -3.49997 -0.56379  1.25884  1.25884]\n",
      "alpha = 1.0, r2_score = 0.53983, coef = [ 0.52655  0.78739  0.18484  1.95132 -3.49829 -0.56319  1.25749  1.25749]\n",
      "alpha = 100000.0, r2_score = 0.38396, coef = [0.21942 0.28536 0.20487 0.31426 0.03477 0.15843 0.18679 0.18679]\n",
      "alpha = 10000000000.0, r2_score = -0.00015, coef = [1.e-05 1.e-05 1.e-05 1.e-05 1.e-05 1.e-05 1.e-05 1.e-05]\n"
     ]
    }
   ],
   "source": [
    "from sklearn.linear_model import Ridge, Lasso\n",
    "\n",
    "for alpha in [1e-5, 1e-3, 1e0, 1e5, 1e10]:\n",
    "\n",
    "    key = f\"ridge_{alpha}\"\n",
    "\n",
    "    lr = Ridge(alpha = alpha, fit_intercept = True)\n",
    "    lr.fit(X_train, y_train)\n",
    "\n",
    "    y_test_pred = lr.predict(X_test)\n",
    "\n",
    "    models_list[key] = lr; y_test_pred_list[key] = y_test_pred\n",
    "\n",
    "    print(f\"alpha = {alpha}, r2_score = {round(r2_score(y_test, y_test_pred), 5)}, coef = {lr.coef_.round(5)}\")"
   ]
  },
  {
   "cell_type": "code",
   "execution_count": 23,
   "id": "f1e104b9",
   "metadata": {},
   "outputs": [
    {
     "name": "stdout",
     "output_type": "stream",
     "text": [
      "alpha = 0.0001, r2_score = 0.53983, coef = [ 0.52678  0.78732  0.18386  1.95298 -3.49534 -0.56003  2.50812  0.     ]\n",
      "alpha = 0.01, r2_score = 0.53772, coef = [ 0.53085  0.78737  0.09681  2.167   -3.03844 -0.19008  1.56707  0.     ]\n",
      "alpha = 0.1, r2_score = 0.50033, coef = [ 0.       0.7596   0.       2.17594 -1.01231  0.       0.       0.     ]\n",
      "alpha = 1.0, r2_score = 0.33558, coef = [0.      0.04239 0.      1.01198 0.      0.      0.      0.     ]\n",
      "alpha = 100.0, r2_score = -0.00018, coef = [0. 0. 0. 0. 0. 0. 0. 0.]\n"
     ]
    }
   ],
   "source": [
    "from sklearn.linear_model import Ridge, Lasso\n",
    "\n",
    "for alpha in [1e-4, 1e-2, 1e-1, 1e0, 1e2]:\n",
    "\n",
    "    key = f\"lasso_{alpha}\"\n",
    "\n",
    "    lr = Lasso(alpha = alpha, fit_intercept = True)\n",
    "    lr.fit(X_train, y_train)\n",
    "\n",
    "    y_test_pred = lr.predict(X_test)\n",
    "\n",
    "    models_list[key] = lr; y_test_pred_list[key] = y_test_pred\n",
    "\n",
    "    print(f\"alpha = {alpha}, r2_score = {round(r2_score(y_test, y_test_pred), 5)}, coef = {lr.coef_.round(5)}\")"
   ]
  },
  {
   "cell_type": "markdown",
   "id": "5b8e59da",
   "metadata": {},
   "source": [
    "Важливий коментар\n",
    "\n",
    "Ridge ($L_2$ регуляризація) зменшує коефіцієнти перед змінними ЛАГІДНО - вони близькі до нуля, але ніколи не будуть в точності рівні нулю.\n",
    "\n",
    "Lasso ($L_1$ регуляризація) зменшує коефіцієнти перед змінними ЖОРСТКО - деякі змінні мають нульову вагу, тому можна використовувати Lasso як один із способів відбору ознак.\n",
    "\n",
    "Ця різниця пов'язана із природою функцій - квадрат координат є диференційовним, модуль координат - ні (не має похідної у точці 0)"
   ]
  },
  {
   "cell_type": "markdown",
   "id": "e9abe237",
   "metadata": {},
   "source": [
    "### 3. Метод головних компонент\n",
    "\n",
    "Головна ідея  - перейти у новий простір ознак, де ознаки будуть некорельовані між собою.\n",
    "\n",
    "$$ (x_1, x_2, ... x_n) \\longrightarrow (f_1, f_2, ..., f_m)  (m \\leq n) $$\n",
    "$$ corr (x_i, x_j) = r_{ij} \\longrightarrow corr (f_i, f_j) = 0 $$\n",
    "\n",
    "Фактично, це задача оптимізації, де кожна компонента намагається мати максимальну дисперсію (як раз із цієї причини метод називається ГОЛОВНИХ КОМПОНЕНТ):\n",
    "\n",
    "$$ f_1 = a_1 x_1 + a_2 x_2 + ... + a_n x_n $$\n",
    "\n",
    "$$ D f_1 \\rightarrow max_{a_1, a_2, ... , a_n} $$\n",
    "\n",
    "Будуємо наступну компоненту, але вона має бути перпендикулярна першій:\n",
    "\n",
    "$$ f_2 = b_1 x_1 + b_2 x_2 + ... + b_n x_n $$\n",
    "\n",
    "$$ D f_2 \\rightarrow max_{b_1, b_2, ..., b_n} $$\n",
    "\n",
    "$$ corr (f_1, f_2) = 0 $$\n",
    "\n",
    "Будуємо третю компоненту (вона має бути перпендикулярною першим двом), і так далі:\n",
    "\n",
    "$$ f_3 = c_1 x_1 + c_2 x_2 + ... + c_n x_n $$\n",
    "\n",
    "$$ D f_3 \\rightarrow max_{c_1, c_2, ..., c_n} $$\n",
    "\n",
    "$$ corr (f_3, f_1) = 0 ; $$ \n",
    "$$ corr (f_3, f_2) = 0 $$\n",
    "\n",
    "З точки зору лінійної алгебри - це задача пошуку діагональної форми коваріаційної матриці\n",
    "\n",
    "$$ K = U J U^{-1} $$\n",
    "\n",
    "K - вихідна матриця кореляцій, J - матриця кореляцій у новому просторі (вона буде діагональною і складатиметься із $ (D f_1, D f_2 , ... D f_n) $"
   ]
  },
  {
   "cell_type": "code",
   "execution_count": 26,
   "id": "3385bdd5",
   "metadata": {},
   "outputs": [
    {
     "name": "stdout",
     "output_type": "stream",
     "text": [
      "n_components = 1, R^2 = 0.3785345869656259\n",
      "n_components = 2, R^2 = 0.4292649776055212\n",
      "n_components = 3, R^2 = 0.48032857431368614\n",
      "n_components = 4, R^2 = 0.5292668978501024\n",
      "n_components = 5, R^2 = 0.5299360450504922\n",
      "n_components = 6, R^2 = 0.5398317578900318\n",
      "n_components = 7, R^2 = 0.5398301425539878\n",
      "n_components = 8, R^2 = 0.5398301425539878\n",
      "Axes(0.125,0.11;0.62x0.77)\n"
     ]
    },
    {
     "data": {
      "image/png": "[encoded data removed]",
      "text/plain": [
       "<Figure size 640x480 with 2 Axes>"
      ]
     },
     "metadata": {},
     "output_type": "display_data"
    }
   ],
   "source": [
    "from sklearn.decomposition import PCA\n",
    "\n",
    "#for n in [1,3,5,len(numerical)]:\n",
    "for n in range(1, len(numerical)+1, 1):\n",
    "    pca = PCA(n_components = n)\n",
    "    \n",
    "    X_train_pca = pd.DataFrame( pca.fit_transform(X_train), columns = [f'pc{i}' for i in range(1, n+1)] )\n",
    "    \n",
    "    lr = LinearRegression()\n",
    "    lr.fit(X_train_pca, y_train)\n",
    "    \n",
    "    X_test_pca = pd.DataFrame( pca.transform(X_test), columns = [f'pc{i}' for i in range(1, n+1)] )\n",
    "    \n",
    "    y_test_pred = lr.predict(X_test_pca)\n",
    "    \n",
    "    print(f\"n_components = {n}, R^2 = {r2_score(y_test, y_test_pred)}\")\n",
    "    \n",
    "    if n==len(numerical):\n",
    "        print(sns.heatmap(X_train_pca.cov().round(3), cmap='coolwarm', annot=True))\n",
    "        #print(sns.heatmap(X_train_pca.corr().round(3), cmap='coolwarm', annot=True))"
   ]
  },
  {
   "cell_type": "markdown",
   "id": "2f935e9b",
   "metadata": {},
   "source": [
    "Можемо бачити і на практиці, що після застосування PCA матриця коваріацій є діагональною (перша компонента стягує на себе якомога більше дисперсії)\n",
    "\n",
    "Застосування PCA унеможливлює мультиколінеарність в даних (нові змінні мають бути некорельованими між собою)"
   ]
  }
 ],
 "metadata": {
  "kernelspec": {
   "display_name": "fti_labs",
   "language": "python",
   "name": "fti_labs"
  },
  "language_info": {
   "codemirror_mode": {
    "name": "ipython",
    "version": 3
   },
   "file_extension": ".py",
   "mimetype": "text/x-python",
   "name": "python",
   "nbconvert_exporter": "python",
   "pygments_lexer": "ipython3",
   "version": "3.10.12"
  }
 },
 "nbformat": 4,
 "nbformat_minor": 5
}

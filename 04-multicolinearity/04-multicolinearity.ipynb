{
 "cells": [
  {
   "cell_type": "markdown",
   "id": "210c5189",
   "metadata": {},
   "source": [
    "У цьому ноутбуці ми розберемо явище мультиколінеарності, та способи протидії мультиколінеарності.\n",
    "\n",
    "Мультиколінеарність можна побачити по кореляційній матриці даних (багато значень >0.9 )\n",
    "\n",
    "Розберемо типові способи протидії мультиколінеарності:\n",
    "\n",
    "1) відкидання зайвих ознак\n",
    "\n",
    "2) регуляризація (регресії Ridge, Lasso)\n",
    "\n",
    "3) перехід у новий простір ознак (метод головних компонент - PCA)"
   ]
  },
  {
   "cell_type": "code",
   "execution_count": null,
   "id": "dc428fe6",
   "metadata": {},
   "outputs": [],
   "source": [
    "import numpy as np\n",
    "import pandas as pd\n",
    "import matplotlib.pyplot as plt\n",
    "import seaborn as sns\n",
    "\n",
    "from tqdm import tqdm\n",
    "tqdm.pandas()"
   ]
  },
  {
   "cell_type": "code",
   "execution_count": 2,
   "id": "e935952f",
   "metadata": {},
   "outputs": [
    {
     "data": {
      "text/html": [
       "<div>\n",
       "<style scoped>\n",
       "    .dataframe tbody tr th:only-of-type {\n",
       "        vertical-align: middle;\n",
       "    }\n",
       "\n",
       "    .dataframe tbody tr th {\n",
       "        vertical-align: top;\n",
       "    }\n",
       "\n",
       "    .dataframe thead th {\n",
       "        text-align: right;\n",
       "    }\n",
       "</style>\n",
       "<table border=\"1\" class=\"dataframe\">\n",
       "  <thead>\n",
       "    <tr style=\"text-align: right;\">\n",
       "      <th></th>\n",
       "      <th>Sex</th>\n",
       "      <th>Length</th>\n",
       "      <th>Diameter</th>\n",
       "      <th>Height</th>\n",
       "      <th>Weight</th>\n",
       "      <th>Shucked Weight</th>\n",
       "      <th>Viscera Weight</th>\n",
       "      <th>Shell Weight</th>\n",
       "      <th>Age</th>\n",
       "    </tr>\n",
       "    <tr>\n",
       "      <th>id</th>\n",
       "      <th></th>\n",
       "      <th></th>\n",
       "      <th></th>\n",
       "      <th></th>\n",
       "      <th></th>\n",
       "      <th></th>\n",
       "      <th></th>\n",
       "      <th></th>\n",
       "      <th></th>\n",
       "    </tr>\n",
       "  </thead>\n",
       "  <tbody>\n",
       "    <tr>\n",
       "      <th>0</th>\n",
       "      <td>I</td>\n",
       "      <td>1.5250</td>\n",
       "      <td>1.1750</td>\n",
       "      <td>0.3750</td>\n",
       "      <td>28.973189</td>\n",
       "      <td>12.728926</td>\n",
       "      <td>6.647958</td>\n",
       "      <td>8.348928</td>\n",
       "      <td>9</td>\n",
       "    </tr>\n",
       "    <tr>\n",
       "      <th>1</th>\n",
       "      <td>I</td>\n",
       "      <td>1.1000</td>\n",
       "      <td>0.8250</td>\n",
       "      <td>0.2750</td>\n",
       "      <td>10.418441</td>\n",
       "      <td>4.521745</td>\n",
       "      <td>2.324659</td>\n",
       "      <td>3.401940</td>\n",
       "      <td>8</td>\n",
       "    </tr>\n",
       "    <tr>\n",
       "      <th>2</th>\n",
       "      <td>M</td>\n",
       "      <td>1.3875</td>\n",
       "      <td>1.1125</td>\n",
       "      <td>0.3750</td>\n",
       "      <td>24.777463</td>\n",
       "      <td>11.339800</td>\n",
       "      <td>5.556502</td>\n",
       "      <td>6.662133</td>\n",
       "      <td>9</td>\n",
       "    </tr>\n",
       "    <tr>\n",
       "      <th>3</th>\n",
       "      <td>F</td>\n",
       "      <td>1.7000</td>\n",
       "      <td>1.4125</td>\n",
       "      <td>0.5000</td>\n",
       "      <td>50.660556</td>\n",
       "      <td>20.354941</td>\n",
       "      <td>10.991839</td>\n",
       "      <td>14.996885</td>\n",
       "      <td>11</td>\n",
       "    </tr>\n",
       "    <tr>\n",
       "      <th>4</th>\n",
       "      <td>I</td>\n",
       "      <td>1.2500</td>\n",
       "      <td>1.0125</td>\n",
       "      <td>0.3375</td>\n",
       "      <td>23.289114</td>\n",
       "      <td>11.977664</td>\n",
       "      <td>4.507570</td>\n",
       "      <td>5.953395</td>\n",
       "      <td>8</td>\n",
       "    </tr>\n",
       "  </tbody>\n",
       "</table>\n",
       "</div>"
      ],
      "text/plain": [
       "   Sex  Length  Diameter  Height     Weight  Shucked Weight  Viscera Weight  \\\n",
       "id                                                                            \n",
       "0    I  1.5250    1.1750  0.3750  28.973189       12.728926        6.647958   \n",
       "1    I  1.1000    0.8250  0.2750  10.418441        4.521745        2.324659   \n",
       "2    M  1.3875    1.1125  0.3750  24.777463       11.339800        5.556502   \n",
       "3    F  1.7000    1.4125  0.5000  50.660556       20.354941       10.991839   \n",
       "4    I  1.2500    1.0125  0.3375  23.289114       11.977664        4.507570   \n",
       "\n",
       "    Shell Weight  Age  \n",
       "id                     \n",
       "0       8.348928    9  \n",
       "1       3.401940    8  \n",
       "2       6.662133    9  \n",
       "3      14.996885   11  \n",
       "4       5.953395    8  "
      ]
     },
     "execution_count": 2,
     "metadata": {},
     "output_type": "execute_result"
    }
   ],
   "source": [
    "data = pd.read_csv(\"train.csv\", index_col = 'id')\n",
    "data.head()"
   ]
  },
  {
   "cell_type": "code",
   "execution_count": 3,
   "id": "c03099c7",
   "metadata": {},
   "outputs": [
    {
     "data": {
      "text/plain": [
       "['Diameter',\n",
       " 'Height',\n",
       " 'Length',\n",
       " 'Shell Weight',\n",
       " 'Shucked Weight',\n",
       " 'Viscera Weight',\n",
       " 'Weight']"
      ]
     },
     "execution_count": 3,
     "metadata": {},
     "output_type": "execute_result"
    }
   ],
   "source": [
    "categorical = ['Sex']\n",
    "target = 'Age'\n",
    "numerical = data.columns.difference(categorical+[target]).tolist()\n",
    "\n",
    "numerical"
   ]
  },
  {
   "cell_type": "markdown",
   "id": "82391e1d",
   "metadata": {},
   "source": [
    "Outlier removal"
   ]
  },
  {
   "cell_type": "code",
   "execution_count": 4,
   "id": "2c2ac22d",
   "metadata": {},
   "outputs": [],
   "source": [
    "for col in numerical:\n",
    "    mean, std = data[col].mean(), data[col].std()\n",
    "    data = data[(data[col]>=mean-3*std) & (data[col]<=mean+3*std) ]"
   ]
  },
  {
   "cell_type": "code",
   "execution_count": 5,
   "id": "8cc931d1",
   "metadata": {},
   "outputs": [
    {
     "data": {
      "text/plain": [
       "<Axes: >"
      ]
     },
     "execution_count": 5,
     "metadata": {},
     "output_type": "execute_result"
    },
    {
     "data": {
      "image/png": "[encoded data removed]",
      "text/plain": [
       "<Figure size 640x480 with 2 Axes>"
      ]
     },
     "metadata": {},
     "output_type": "display_data"
    }
   ],
   "source": [
    "sns.heatmap(data[numerical].corr(), cmap = 'coolwarm', annot = True)"
   ]
  },
  {
   "cell_type": "markdown",
   "id": "0fe4338d",
   "metadata": {},
   "source": [
    "По матриці кореляцій можна бачити, що в даних висока мультиколінеарність (практично всі змінні корелюють одна із одною із $ r_{ij} >=0.9 $"
   ]
  },
  {
   "cell_type": "code",
   "execution_count": 6,
   "id": "b45b9ea5",
   "metadata": {},
   "outputs": [
    {
     "data": {
      "text/plain": [
       "Shell Weight      0.663473\n",
       "Height            0.638067\n",
       "Diameter          0.621256\n",
       "Length            0.612843\n",
       "Weight            0.601195\n",
       "Viscera Weight    0.576808\n",
       "Shucked Weight    0.503320\n",
       "dtype: float64"
      ]
     },
     "execution_count": 6,
     "metadata": {},
     "output_type": "execute_result"
    }
   ],
   "source": [
    "data[numerical].corrwith(data[target]).sort_values(ascending=False)"
   ]
  },
  {
   "cell_type": "markdown",
   "id": "307558b7",
   "metadata": {},
   "source": [
    "### Чи впливає стандартизація на кореляцію в даних?\n",
    "\n",
    "$$ X_{stded} = \\cfrac{X - \\mu}{\\sigma} $$"
   ]
  },
  {
   "cell_type": "code",
   "execution_count": 7,
   "id": "d9499a84",
   "metadata": {},
   "outputs": [],
   "source": [
    "## standartization\n",
    "data_stded = data.copy()\n",
    "\n",
    "for col in numerical:\n",
    "    mean, std = data_stded[col].mean(), data_stded[col].std()\n",
    "    data_stded[col] = (data_stded[col] - mean)/(std)"
   ]
  },
  {
   "cell_type": "code",
   "execution_count": 8,
   "id": "c253c966",
   "metadata": {},
   "outputs": [
    {
     "data": {
      "text/plain": [
       "'\\nfrom sklearn.preprocessing import StandardScaler\\nstd_scaler = StandartScaler()\\ndata_stded_arr = std_scaler.fit_transform(data[numerical]) #тут отримуємо np.array із нормалізованими колонками\\ndata_stded = pd.DataFrame(data_stded, columns = numerical) #повертаємо назви колонок\\n\\n#категорійні колонки не змінюємо\\nfor cat_col in categorical:\\n    data_stded[cat_col] = data[cat_col]\\n'"
      ]
     },
     "execution_count": 8,
     "metadata": {},
     "output_type": "execute_result"
    }
   ],
   "source": [
    "#спосіб зробити те саме, але через sklearn\n",
    "\"\"\"\n",
    "from sklearn.preprocessing import StandardScaler\n",
    "std_scaler = StandartScaler()\n",
    "data_stded_arr = std_scaler.fit_transform(data[numerical]) #тут отримуємо np.array із нормалізованими колонками\n",
    "data_stded = pd.DataFrame(data_stded, columns = numerical) #повертаємо назви колонок\n",
    "\n",
    "#категорійні колонки не змінюємо\n",
    "for cat_col in categorical:\n",
    "    data_stded[cat_col] = data[cat_col]\n",
    "\"\"\""
   ]
  },
  {
   "cell_type": "markdown",
   "id": "b8cdacb6",
   "metadata": {},
   "source": [
    "### Дивимось, чи змінилася матриця кореляції при стандартизації даних"
   ]
  },
  {
   "cell_type": "code",
   "execution_count": 9,
   "id": "e93d079a",
   "metadata": {},
   "outputs": [
    {
     "data": {
      "text/html": [
       "<div>\n",
       "<style scoped>\n",
       "    .dataframe tbody tr th:only-of-type {\n",
       "        vertical-align: middle;\n",
       "    }\n",
       "\n",
       "    .dataframe tbody tr th {\n",
       "        vertical-align: top;\n",
       "    }\n",
       "\n",
       "    .dataframe thead th {\n",
       "        text-align: right;\n",
       "    }\n",
       "</style>\n",
       "<table border=\"1\" class=\"dataframe\">\n",
       "  <thead>\n",
       "    <tr style=\"text-align: right;\">\n",
       "      <th></th>\n",
       "      <th>Diameter</th>\n",
       "      <th>Height</th>\n",
       "      <th>Length</th>\n",
       "      <th>Shell Weight</th>\n",
       "      <th>Shucked Weight</th>\n",
       "      <th>Viscera Weight</th>\n",
       "      <th>Weight</th>\n",
       "    </tr>\n",
       "  </thead>\n",
       "  <tbody>\n",
       "    <tr>\n",
       "      <th>Diameter</th>\n",
       "      <td>0.0</td>\n",
       "      <td>0.0</td>\n",
       "      <td>-0.0</td>\n",
       "      <td>-0.0</td>\n",
       "      <td>-0.0</td>\n",
       "      <td>0.0</td>\n",
       "      <td>0.0</td>\n",
       "    </tr>\n",
       "    <tr>\n",
       "      <th>Height</th>\n",
       "      <td>0.0</td>\n",
       "      <td>0.0</td>\n",
       "      <td>-0.0</td>\n",
       "      <td>-0.0</td>\n",
       "      <td>-0.0</td>\n",
       "      <td>-0.0</td>\n",
       "      <td>-0.0</td>\n",
       "    </tr>\n",
       "    <tr>\n",
       "      <th>Length</th>\n",
       "      <td>-0.0</td>\n",
       "      <td>-0.0</td>\n",
       "      <td>0.0</td>\n",
       "      <td>-0.0</td>\n",
       "      <td>-0.0</td>\n",
       "      <td>-0.0</td>\n",
       "      <td>0.0</td>\n",
       "    </tr>\n",
       "    <tr>\n",
       "      <th>Shell Weight</th>\n",
       "      <td>-0.0</td>\n",
       "      <td>-0.0</td>\n",
       "      <td>-0.0</td>\n",
       "      <td>0.0</td>\n",
       "      <td>-0.0</td>\n",
       "      <td>-0.0</td>\n",
       "      <td>-0.0</td>\n",
       "    </tr>\n",
       "    <tr>\n",
       "      <th>Shucked Weight</th>\n",
       "      <td>-0.0</td>\n",
       "      <td>-0.0</td>\n",
       "      <td>-0.0</td>\n",
       "      <td>-0.0</td>\n",
       "      <td>0.0</td>\n",
       "      <td>-0.0</td>\n",
       "      <td>0.0</td>\n",
       "    </tr>\n",
       "    <tr>\n",
       "      <th>Viscera Weight</th>\n",
       "      <td>0.0</td>\n",
       "      <td>-0.0</td>\n",
       "      <td>-0.0</td>\n",
       "      <td>-0.0</td>\n",
       "      <td>-0.0</td>\n",
       "      <td>0.0</td>\n",
       "      <td>0.0</td>\n",
       "    </tr>\n",
       "    <tr>\n",
       "      <th>Weight</th>\n",
       "      <td>0.0</td>\n",
       "      <td>-0.0</td>\n",
       "      <td>0.0</td>\n",
       "      <td>-0.0</td>\n",
       "      <td>0.0</td>\n",
       "      <td>0.0</td>\n",
       "      <td>0.0</td>\n",
       "    </tr>\n",
       "  </tbody>\n",
       "</table>\n",
       "</div>"
      ],
      "text/plain": [
       "                Diameter  Height  Length  Shell Weight  Shucked Weight  \\\n",
       "Diameter             0.0     0.0    -0.0          -0.0            -0.0   \n",
       "Height               0.0     0.0    -0.0          -0.0            -0.0   \n",
       "Length              -0.0    -0.0     0.0          -0.0            -0.0   \n",
       "Shell Weight        -0.0    -0.0    -0.0           0.0            -0.0   \n",
       "Shucked Weight      -0.0    -0.0    -0.0          -0.0             0.0   \n",
       "Viscera Weight       0.0    -0.0    -0.0          -0.0            -0.0   \n",
       "Weight               0.0    -0.0     0.0          -0.0             0.0   \n",
       "\n",
       "                Viscera Weight  Weight  \n",
       "Diameter                   0.0     0.0  \n",
       "Height                    -0.0    -0.0  \n",
       "Length                    -0.0     0.0  \n",
       "Shell Weight              -0.0    -0.0  \n",
       "Shucked Weight            -0.0     0.0  \n",
       "Viscera Weight             0.0     0.0  \n",
       "Weight                     0.0     0.0  "
      ]
     },
     "execution_count": 9,
     "metadata": {},
     "output_type": "execute_result"
    }
   ],
   "source": [
    "(data[numerical].corr() - data_stded[numerical].corr()).round(5)"
   ]
  },
  {
   "cell_type": "markdown",
   "id": "8f929d54",
   "metadata": {},
   "source": [
    "### Чи змінюється кореляція даних при mix-max нормуванні?\n",
    "\n",
    "$$ X_{normed} = \\cfrac{X - X_{min}}{X_{max}-X_{min}} $$"
   ]
  },
  {
   "cell_type": "code",
   "execution_count": 10,
   "id": "3589a802",
   "metadata": {},
   "outputs": [],
   "source": [
    "## normalization\n",
    "data_normed = data.copy()\n",
    "\n",
    "for col in numerical:\n",
    "    min_, max_ = data_normed[col].min(), data_normed[col].max()\n",
    "    data_normed[col] = (data_normed[col] - min_)/(max_ - min_)"
   ]
  },
  {
   "cell_type": "code",
   "execution_count": 11,
   "id": "65b2cfe2",
   "metadata": {},
   "outputs": [
    {
     "data": {
      "text/plain": [
       "'\\nfrom sklearn.preprocessing import MinMaxScaler\\nminmax_scaler = MinMaxScaler()\\ndata_normed_arr = minmax_scaler.fit_transform(data[numerical]) #тут отримуємо np.array із нормалізованими колонками\\ndata_normed = pd.DataFrame(data_normed, columns = numerical) #повертаємо назви колонок\\n\\n#категорійні колонки не змінюємо\\nfor cat_col in categorical:\\n    data_normed[cat_col] = data[cat_col]\\n'"
      ]
     },
     "execution_count": 11,
     "metadata": {},
     "output_type": "execute_result"
    }
   ],
   "source": [
    "#спосіб зробити те саме, але через sklearn\n",
    "\"\"\"\n",
    "from sklearn.preprocessing import MinMaxScaler\n",
    "minmax_scaler = MinMaxScaler()\n",
    "data_normed_arr = minmax_scaler.fit_transform(data[numerical]) #тут отримуємо np.array із нормалізованими колонками\n",
    "data_normed = pd.DataFrame(data_normed, columns = numerical) #повертаємо назви колонок\n",
    "\n",
    "#категорійні колонки не змінюємо\n",
    "for cat_col in categorical:\n",
    "    data_normed[cat_col] = data[cat_col]\n",
    "\"\"\""
   ]
  },
  {
   "cell_type": "code",
   "execution_count": 12,
   "id": "e1bf43df",
   "metadata": {},
   "outputs": [
    {
     "data": {
      "text/html": [
       "<div>\n",
       "<style scoped>\n",
       "    .dataframe tbody tr th:only-of-type {\n",
       "        vertical-align: middle;\n",
       "    }\n",
       "\n",
       "    .dataframe tbody tr th {\n",
       "        vertical-align: top;\n",
       "    }\n",
       "\n",
       "    .dataframe thead th {\n",
       "        text-align: right;\n",
       "    }\n",
       "</style>\n",
       "<table border=\"1\" class=\"dataframe\">\n",
       "  <thead>\n",
       "    <tr style=\"text-align: right;\">\n",
       "      <th></th>\n",
       "      <th>Diameter</th>\n",
       "      <th>Height</th>\n",
       "      <th>Length</th>\n",
       "      <th>Shell Weight</th>\n",
       "      <th>Shucked Weight</th>\n",
       "      <th>Viscera Weight</th>\n",
       "      <th>Weight</th>\n",
       "    </tr>\n",
       "  </thead>\n",
       "  <tbody>\n",
       "    <tr>\n",
       "      <th>Diameter</th>\n",
       "      <td>0.0</td>\n",
       "      <td>0.0</td>\n",
       "      <td>-0.0</td>\n",
       "      <td>0.0</td>\n",
       "      <td>-0.0</td>\n",
       "      <td>0.0</td>\n",
       "      <td>-0.0</td>\n",
       "    </tr>\n",
       "    <tr>\n",
       "      <th>Height</th>\n",
       "      <td>0.0</td>\n",
       "      <td>0.0</td>\n",
       "      <td>-0.0</td>\n",
       "      <td>-0.0</td>\n",
       "      <td>0.0</td>\n",
       "      <td>-0.0</td>\n",
       "      <td>-0.0</td>\n",
       "    </tr>\n",
       "    <tr>\n",
       "      <th>Length</th>\n",
       "      <td>-0.0</td>\n",
       "      <td>-0.0</td>\n",
       "      <td>0.0</td>\n",
       "      <td>0.0</td>\n",
       "      <td>-0.0</td>\n",
       "      <td>-0.0</td>\n",
       "      <td>0.0</td>\n",
       "    </tr>\n",
       "    <tr>\n",
       "      <th>Shell Weight</th>\n",
       "      <td>0.0</td>\n",
       "      <td>-0.0</td>\n",
       "      <td>0.0</td>\n",
       "      <td>0.0</td>\n",
       "      <td>0.0</td>\n",
       "      <td>-0.0</td>\n",
       "      <td>-0.0</td>\n",
       "    </tr>\n",
       "    <tr>\n",
       "      <th>Shucked Weight</th>\n",
       "      <td>-0.0</td>\n",
       "      <td>0.0</td>\n",
       "      <td>-0.0</td>\n",
       "      <td>0.0</td>\n",
       "      <td>0.0</td>\n",
       "      <td>-0.0</td>\n",
       "      <td>0.0</td>\n",
       "    </tr>\n",
       "    <tr>\n",
       "      <th>Viscera Weight</th>\n",
       "      <td>0.0</td>\n",
       "      <td>-0.0</td>\n",
       "      <td>-0.0</td>\n",
       "      <td>-0.0</td>\n",
       "      <td>-0.0</td>\n",
       "      <td>0.0</td>\n",
       "      <td>-0.0</td>\n",
       "    </tr>\n",
       "    <tr>\n",
       "      <th>Weight</th>\n",
       "      <td>-0.0</td>\n",
       "      <td>-0.0</td>\n",
       "      <td>0.0</td>\n",
       "      <td>-0.0</td>\n",
       "      <td>0.0</td>\n",
       "      <td>-0.0</td>\n",
       "      <td>0.0</td>\n",
       "    </tr>\n",
       "  </tbody>\n",
       "</table>\n",
       "</div>"
      ],
      "text/plain": [
       "                Diameter  Height  Length  Shell Weight  Shucked Weight  \\\n",
       "Diameter             0.0     0.0    -0.0           0.0            -0.0   \n",
       "Height               0.0     0.0    -0.0          -0.0             0.0   \n",
       "Length              -0.0    -0.0     0.0           0.0            -0.0   \n",
       "Shell Weight         0.0    -0.0     0.0           0.0             0.0   \n",
       "Shucked Weight      -0.0     0.0    -0.0           0.0             0.0   \n",
       "Viscera Weight       0.0    -0.0    -0.0          -0.0            -0.0   \n",
       "Weight              -0.0    -0.0     0.0          -0.0             0.0   \n",
       "\n",
       "                Viscera Weight  Weight  \n",
       "Diameter                   0.0    -0.0  \n",
       "Height                    -0.0    -0.0  \n",
       "Length                    -0.0     0.0  \n",
       "Shell Weight              -0.0    -0.0  \n",
       "Shucked Weight            -0.0     0.0  \n",
       "Viscera Weight             0.0    -0.0  \n",
       "Weight                    -0.0     0.0  "
      ]
     },
     "execution_count": 12,
     "metadata": {},
     "output_type": "execute_result"
    }
   ],
   "source": [
    "(data[numerical].corr() - data_normed[numerical].corr()).round(5)"
   ]
  },
  {
   "cell_type": "markdown",
   "id": "849671c0",
   "metadata": {},
   "source": [
    "Надалі в цьому ноутбуці, будемо вважати що ми вже привели дані до одної шкали і будемо в основному користуватись data_stded.\n",
    "\n",
    "Побудуємо типову модель лінійної регресії на всіх змінних, щоб далі нам було від чого відштовхуватись"
   ]
  },
  {
   "cell_type": "code",
   "execution_count": null,
   "id": "dacb977b",
   "metadata": {},
   "outputs": [],
   "source": []
  }
 ],
 "metadata": {
  "kernelspec": {
   "display_name": "fti_labs",
   "language": "python",
   "name": "fti_labs"
  },
  "language_info": {
   "codemirror_mode": {
    "name": "ipython",
    "version": 3
   },
   "file_extension": ".py",
   "mimetype": "text/x-python",
   "name": "python",
   "nbconvert_exporter": "python",
   "pygments_lexer": "ipython3",
   "version": "3.10.12"
  }
 },
 "nbformat": 4,
 "nbformat_minor": 5
}

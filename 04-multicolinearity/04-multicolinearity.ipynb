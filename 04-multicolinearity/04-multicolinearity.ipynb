{
 "cells": [
  {
   "cell_type": "markdown",
   "id": "189ac2ee",
   "metadata": {},
   "source": [
    "У цьому ноутбуці ми розберемо явище мультиколінеарності, та способи протидії мультиколінеарності.\n",
    "\n",
    "Мультиколінеарність можна побачити по кореляційній матриці даних (багато значень >0.9 )\n",
    "\n",
    "Розберемо типові способи протидії мультиколінеарності:\n",
    "\n",
    "1) відкидання зайвих ознак\n",
    "\n",
    "2) регуляризація (регресії Ridge, Lasso)\n",
    "\n",
    "3) перехід у новий простір ознак (метод головних компонент - PCA)"
   ]
  },
  {
   "cell_type": "code",
   "execution_count": 1,
   "id": "e27444b1",
   "metadata": {},
   "outputs": [],
   "source": [
    "import numpy as np\n",
    "import pandas as pd\n",
    "import matplotlib.pyplot as plt\n",
    "import seaborn as sns\n",
    "\n",
    "from tqdm import tqdm\n",
    "tqdm.pandas()"
   ]
  },
  {
   "cell_type": "code",
   "execution_count": 2,
   "id": "bf0a4c2d",
   "metadata": {},
   "outputs": [
    {
     "data": {
      "text/html": [
       "<div>\n",
       "<style scoped>\n",
       "    .dataframe tbody tr th:only-of-type {\n",
       "        vertical-align: middle;\n",
       "    }\n",
       "\n",
       "    .dataframe tbody tr th {\n",
       "        vertical-align: top;\n",
       "    }\n",
       "\n",
       "    .dataframe thead th {\n",
       "        text-align: right;\n",
       "    }\n",
       "</style>\n",
       "<table border=\"1\" class=\"dataframe\">\n",
       "  <thead>\n",
       "    <tr style=\"text-align: right;\">\n",
       "      <th></th>\n",
       "      <th>Sex</th>\n",
       "      <th>Length</th>\n",
       "      <th>Diameter</th>\n",
       "      <th>Height</th>\n",
       "      <th>Weight</th>\n",
       "      <th>Shucked Weight</th>\n",
       "      <th>Viscera Weight</th>\n",
       "      <th>Shell Weight</th>\n",
       "      <th>Age</th>\n",
       "    </tr>\n",
       "    <tr>\n",
       "      <th>id</th>\n",
       "      <th></th>\n",
       "      <th></th>\n",
       "      <th></th>\n",
       "      <th></th>\n",
       "      <th></th>\n",
       "      <th></th>\n",
       "      <th></th>\n",
       "      <th></th>\n",
       "      <th></th>\n",
       "    </tr>\n",
       "  </thead>\n",
       "  <tbody>\n",
       "    <tr>\n",
       "      <th>0</th>\n",
       "      <td>I</td>\n",
       "      <td>1.5250</td>\n",
       "      <td>1.1750</td>\n",
       "      <td>0.3750</td>\n",
       "      <td>28.973189</td>\n",
       "      <td>12.728926</td>\n",
       "      <td>6.647958</td>\n",
       "      <td>8.348928</td>\n",
       "      <td>9</td>\n",
       "    </tr>\n",
       "    <tr>\n",
       "      <th>1</th>\n",
       "      <td>I</td>\n",
       "      <td>1.1000</td>\n",
       "      <td>0.8250</td>\n",
       "      <td>0.2750</td>\n",
       "      <td>10.418441</td>\n",
       "      <td>4.521745</td>\n",
       "      <td>2.324659</td>\n",
       "      <td>3.401940</td>\n",
       "      <td>8</td>\n",
       "    </tr>\n",
       "    <tr>\n",
       "      <th>2</th>\n",
       "      <td>M</td>\n",
       "      <td>1.3875</td>\n",
       "      <td>1.1125</td>\n",
       "      <td>0.3750</td>\n",
       "      <td>24.777463</td>\n",
       "      <td>11.339800</td>\n",
       "      <td>5.556502</td>\n",
       "      <td>6.662133</td>\n",
       "      <td>9</td>\n",
       "    </tr>\n",
       "    <tr>\n",
       "      <th>3</th>\n",
       "      <td>F</td>\n",
       "      <td>1.7000</td>\n",
       "      <td>1.4125</td>\n",
       "      <td>0.5000</td>\n",
       "      <td>50.660556</td>\n",
       "      <td>20.354941</td>\n",
       "      <td>10.991839</td>\n",
       "      <td>14.996885</td>\n",
       "      <td>11</td>\n",
       "    </tr>\n",
       "    <tr>\n",
       "      <th>4</th>\n",
       "      <td>I</td>\n",
       "      <td>1.2500</td>\n",
       "      <td>1.0125</td>\n",
       "      <td>0.3375</td>\n",
       "      <td>23.289114</td>\n",
       "      <td>11.977664</td>\n",
       "      <td>4.507570</td>\n",
       "      <td>5.953395</td>\n",
       "      <td>8</td>\n",
       "    </tr>\n",
       "  </tbody>\n",
       "</table>\n",
       "</div>"
      ],
      "text/plain": [
       "   Sex  Length  Diameter  Height     Weight  Shucked Weight  Viscera Weight  \\\n",
       "id                                                                            \n",
       "0    I  1.5250    1.1750  0.3750  28.973189       12.728926        6.647958   \n",
       "1    I  1.1000    0.8250  0.2750  10.418441        4.521745        2.324659   \n",
       "2    M  1.3875    1.1125  0.3750  24.777463       11.339800        5.556502   \n",
       "3    F  1.7000    1.4125  0.5000  50.660556       20.354941       10.991839   \n",
       "4    I  1.2500    1.0125  0.3375  23.289114       11.977664        4.507570   \n",
       "\n",
       "    Shell Weight  Age  \n",
       "id                     \n",
       "0       8.348928    9  \n",
       "1       3.401940    8  \n",
       "2       6.662133    9  \n",
       "3      14.996885   11  \n",
       "4       5.953395    8  "
      ]
     },
     "execution_count": 2,
     "metadata": {},
     "output_type": "execute_result"
    }
   ],
   "source": [
    "data = pd.read_csv(\"train.csv\", index_col = 'id')\n",
    "data.head()"
   ]
  },
  {
   "cell_type": "code",
   "execution_count": 3,
   "id": "07e36917",
   "metadata": {},
   "outputs": [
    {
     "data": {
      "text/plain": [
       "['Diameter',\n",
       " 'Height',\n",
       " 'Length',\n",
       " 'Shell Weight',\n",
       " 'Shucked Weight',\n",
       " 'Viscera Weight',\n",
       " 'Weight']"
      ]
     },
     "execution_count": 3,
     "metadata": {},
     "output_type": "execute_result"
    }
   ],
   "source": [
    "categorical = ['Sex']\n",
    "target = 'Age'\n",
    "numerical = data.columns.difference(categorical+[target]).tolist()\n",
    "\n",
    "numerical"
   ]
  },
  {
   "cell_type": "markdown",
   "id": "44a30076",
   "metadata": {},
   "source": [
    "Outlier removal"
   ]
  },
  {
   "cell_type": "code",
   "execution_count": 4,
   "id": "6e011dee",
   "metadata": {},
   "outputs": [],
   "source": [
    "for col in numerical:\n",
    "    mean, std = data[col].mean(), data[col].std()\n",
    "    data = data[(data[col]>=mean-3*std) & (data[col]<=mean+3*std) ]"
   ]
  },
  {
   "cell_type": "code",
   "execution_count": 5,
   "id": "616d43b3",
   "metadata": {},
   "outputs": [
    {
     "data": {
      "text/plain": [
       "<Axes: >"
      ]
     },
     "execution_count": 5,
     "metadata": {},
     "output_type": "execute_result"
    },
    {
     "data": {
      "image/png": "[encoded data removed]",
      "text/plain": [
       "<Figure size 640x480 with 2 Axes>"
      ]
     },
     "metadata": {},
     "output_type": "display_data"
    }
   ],
   "source": [
    "sns.heatmap(data[numerical].corr(), cmap = 'coolwarm', annot = True)"
   ]
  },
  {
   "cell_type": "markdown",
   "id": "648babda",
   "metadata": {},
   "source": [
    "По матриці кореляцій можна бачити, що в даних висока мультиколінеарність (практично всі змінні корелюють одна із одною із $ r_{ij} >=0.9 $"
   ]
  },
  {
   "cell_type": "code",
   "execution_count": 6,
   "id": "2b496434",
   "metadata": {},
   "outputs": [
    {
     "data": {
      "text/plain": [
       "Shell Weight      0.656645\n",
       "Height            0.631624\n",
       "Diameter          0.604829\n",
       "Length            0.596164\n",
       "Weight            0.592570\n",
       "Viscera Weight    0.566500\n",
       "Shucked Weight    0.491941\n",
       "dtype: float64"
      ]
     },
     "execution_count": 6,
     "metadata": {},
     "output_type": "execute_result"
    }
   ],
   "source": [
    "data[numerical].corrwith(data[target]).sort_values(ascending=False)"
   ]
  },
  {
   "cell_type": "markdown",
   "id": "022aa1e8",
   "metadata": {},
   "source": [
    "### Чи впливає стандартизація на кореляцію в даних?\n",
    "\n",
    "$$ X_{stded} = \\cfrac{X - \\mu}{\\sigma} $$"
   ]
  },
  {
   "cell_type": "code",
   "execution_count": 7,
   "id": "17ae46c6",
   "metadata": {},
   "outputs": [],
   "source": [
    "## standartization\n",
    "data_stded = data.copy()\n",
    "\n",
    "for col in numerical:\n",
    "    mean, std = data_stded[col].mean(), data_stded[col].std()\n",
    "    data_stded[col] = (data_stded[col] - mean)/(std)"
   ]
  },
  {
   "cell_type": "code",
   "execution_count": 8,
   "id": "3e632d24",
   "metadata": {},
   "outputs": [
    {
     "data": {
      "text/plain": [
       "'\\nfrom sklearn.preprocessing import StandardScaler\\nstd_scaler = StandartScaler()\\ndata_stded_arr = std_scaler.fit_transform(data[numerical]) #тут отримуємо np.array із нормалізованими колонками\\ndata_stded = pd.DataFrame(data_stded, columns = numerical) #повертаємо назви колонок\\n\\n#категорійні колонки не змінюємо\\nfor cat_col in categorical:\\n    data_stded[cat_col] = data[cat_col]\\n'"
      ]
     },
     "execution_count": 8,
     "metadata": {},
     "output_type": "execute_result"
    }
   ],
   "source": [
    "#спосіб зробити те саме, але через sklearn\n",
    "\"\"\"\n",
    "from sklearn.preprocessing import StandardScaler\n",
    "std_scaler = StandartScaler()\n",
    "data_stded_arr = std_scaler.fit_transform(data[numerical]) #тут отримуємо np.array із нормалізованими колонками\n",
    "data_stded = pd.DataFrame(data_stded, columns = numerical) #повертаємо назви колонок\n",
    "\n",
    "#категорійні колонки не змінюємо\n",
    "for cat_col in categorical:\n",
    "    data_stded[cat_col] = data[cat_col]\n",
    "\"\"\""
   ]
  },
  {
   "cell_type": "markdown",
   "id": "b47eb062",
   "metadata": {},
   "source": [
    "### Дивимось, чи змінилася матриця кореляції при стандартизації даних"
   ]
  },
  {
   "cell_type": "code",
   "execution_count": 9,
   "id": "b2270ee9",
   "metadata": {},
   "outputs": [
    {
     "data": {
      "text/html": [
       "<div>\n",
       "<style scoped>\n",
       "    .dataframe tbody tr th:only-of-type {\n",
       "        vertical-align: middle;\n",
       "    }\n",
       "\n",
       "    .dataframe tbody tr th {\n",
       "        vertical-align: top;\n",
       "    }\n",
       "\n",
       "    .dataframe thead th {\n",
       "        text-align: right;\n",
       "    }\n",
       "</style>\n",
       "<table border=\"1\" class=\"dataframe\">\n",
       "  <thead>\n",
       "    <tr style=\"text-align: right;\">\n",
       "      <th></th>\n",
       "      <th>Diameter</th>\n",
       "      <th>Height</th>\n",
       "      <th>Length</th>\n",
       "      <th>Shell Weight</th>\n",
       "      <th>Shucked Weight</th>\n",
       "      <th>Viscera Weight</th>\n",
       "      <th>Weight</th>\n",
       "    </tr>\n",
       "  </thead>\n",
       "  <tbody>\n",
       "    <tr>\n",
       "      <th>Diameter</th>\n",
       "      <td>0.0</td>\n",
       "      <td>-0.0</td>\n",
       "      <td>0.0</td>\n",
       "      <td>-0.0</td>\n",
       "      <td>0.0</td>\n",
       "      <td>0.0</td>\n",
       "      <td>0.0</td>\n",
       "    </tr>\n",
       "    <tr>\n",
       "      <th>Height</th>\n",
       "      <td>-0.0</td>\n",
       "      <td>0.0</td>\n",
       "      <td>0.0</td>\n",
       "      <td>0.0</td>\n",
       "      <td>0.0</td>\n",
       "      <td>0.0</td>\n",
       "      <td>0.0</td>\n",
       "    </tr>\n",
       "    <tr>\n",
       "      <th>Length</th>\n",
       "      <td>0.0</td>\n",
       "      <td>0.0</td>\n",
       "      <td>0.0</td>\n",
       "      <td>0.0</td>\n",
       "      <td>0.0</td>\n",
       "      <td>0.0</td>\n",
       "      <td>-0.0</td>\n",
       "    </tr>\n",
       "    <tr>\n",
       "      <th>Shell Weight</th>\n",
       "      <td>-0.0</td>\n",
       "      <td>0.0</td>\n",
       "      <td>0.0</td>\n",
       "      <td>0.0</td>\n",
       "      <td>0.0</td>\n",
       "      <td>0.0</td>\n",
       "      <td>-0.0</td>\n",
       "    </tr>\n",
       "    <tr>\n",
       "      <th>Shucked Weight</th>\n",
       "      <td>0.0</td>\n",
       "      <td>0.0</td>\n",
       "      <td>0.0</td>\n",
       "      <td>0.0</td>\n",
       "      <td>0.0</td>\n",
       "      <td>0.0</td>\n",
       "      <td>-0.0</td>\n",
       "    </tr>\n",
       "    <tr>\n",
       "      <th>Viscera Weight</th>\n",
       "      <td>0.0</td>\n",
       "      <td>0.0</td>\n",
       "      <td>0.0</td>\n",
       "      <td>0.0</td>\n",
       "      <td>0.0</td>\n",
       "      <td>0.0</td>\n",
       "      <td>0.0</td>\n",
       "    </tr>\n",
       "    <tr>\n",
       "      <th>Weight</th>\n",
       "      <td>0.0</td>\n",
       "      <td>0.0</td>\n",
       "      <td>-0.0</td>\n",
       "      <td>-0.0</td>\n",
       "      <td>-0.0</td>\n",
       "      <td>0.0</td>\n",
       "      <td>0.0</td>\n",
       "    </tr>\n",
       "  </tbody>\n",
       "</table>\n",
       "</div>"
      ],
      "text/plain": [
       "                Diameter  Height  Length  Shell Weight  Shucked Weight  \\\n",
       "Diameter             0.0    -0.0     0.0          -0.0             0.0   \n",
       "Height              -0.0     0.0     0.0           0.0             0.0   \n",
       "Length               0.0     0.0     0.0           0.0             0.0   \n",
       "Shell Weight        -0.0     0.0     0.0           0.0             0.0   \n",
       "Shucked Weight       0.0     0.0     0.0           0.0             0.0   \n",
       "Viscera Weight       0.0     0.0     0.0           0.0             0.0   \n",
       "Weight               0.0     0.0    -0.0          -0.0            -0.0   \n",
       "\n",
       "                Viscera Weight  Weight  \n",
       "Diameter                   0.0     0.0  \n",
       "Height                     0.0     0.0  \n",
       "Length                     0.0    -0.0  \n",
       "Shell Weight               0.0    -0.0  \n",
       "Shucked Weight             0.0    -0.0  \n",
       "Viscera Weight             0.0     0.0  \n",
       "Weight                     0.0     0.0  "
      ]
     },
     "execution_count": 9,
     "metadata": {},
     "output_type": "execute_result"
    }
   ],
   "source": [
    "(data[numerical].corr() - data_stded[numerical].corr()).round(5)"
   ]
  },
  {
   "cell_type": "markdown",
   "id": "b547eb14",
   "metadata": {},
   "source": [
    "### Чи змінюється кореляція даних при mix-max нормуванні?\n",
    "\n",
    "$$ X_{normed} = \\cfrac{X - X_{min}}{X_{max}-X_{min}} $$"
   ]
  },
  {
   "cell_type": "code",
   "execution_count": 10,
   "id": "779f86d3",
   "metadata": {},
   "outputs": [],
   "source": [
    "## normalization\n",
    "data_normed = data.copy()\n",
    "\n",
    "for col in numerical:\n",
    "    min_, max_ = data_normed[col].min(), data_normed[col].max()\n",
    "    data_normed[col] = (data_normed[col] - min_)/(max_ - min_)"
   ]
  },
  {
   "cell_type": "code",
   "execution_count": 11,
   "id": "0ef35b67",
   "metadata": {},
   "outputs": [
    {
     "data": {
      "text/plain": [
       "'\\nfrom sklearn.preprocessing import MinMaxScaler\\nminmax_scaler = MinMaxScaler()\\ndata_normed_arr = minmax_scaler.fit_transform(data[numerical]) #тут отримуємо np.array із нормалізованими колонками\\ndata_normed = pd.DataFrame(data_normed, columns = numerical) #повертаємо назви колонок\\n\\n#категорійні колонки не змінюємо\\nfor cat_col in categorical:\\n    data_normed[cat_col] = data[cat_col]\\n'"
      ]
     },
     "execution_count": 11,
     "metadata": {},
     "output_type": "execute_result"
    }
   ],
   "source": [
    "#спосіб зробити те саме, але через sklearn\n",
    "\"\"\"\n",
    "from sklearn.preprocessing import MinMaxScaler\n",
    "minmax_scaler = MinMaxScaler()\n",
    "data_normed_arr = minmax_scaler.fit_transform(data[numerical]) #тут отримуємо np.array із нормалізованими колонками\n",
    "data_normed = pd.DataFrame(data_normed, columns = numerical) #повертаємо назви колонок\n",
    "\n",
    "#категорійні колонки не змінюємо\n",
    "for cat_col in categorical:\n",
    "    data_normed[cat_col] = data[cat_col]\n",
    "\"\"\""
   ]
  },
  {
   "cell_type": "code",
   "execution_count": 12,
   "id": "373bbf87",
   "metadata": {},
   "outputs": [
    {
     "data": {
      "text/html": [
       "<div>\n",
       "<style scoped>\n",
       "    .dataframe tbody tr th:only-of-type {\n",
       "        vertical-align: middle;\n",
       "    }\n",
       "\n",
       "    .dataframe tbody tr th {\n",
       "        vertical-align: top;\n",
       "    }\n",
       "\n",
       "    .dataframe thead th {\n",
       "        text-align: right;\n",
       "    }\n",
       "</style>\n",
       "<table border=\"1\" class=\"dataframe\">\n",
       "  <thead>\n",
       "    <tr style=\"text-align: right;\">\n",
       "      <th></th>\n",
       "      <th>Diameter</th>\n",
       "      <th>Height</th>\n",
       "      <th>Length</th>\n",
       "      <th>Shell Weight</th>\n",
       "      <th>Shucked Weight</th>\n",
       "      <th>Viscera Weight</th>\n",
       "      <th>Weight</th>\n",
       "    </tr>\n",
       "  </thead>\n",
       "  <tbody>\n",
       "    <tr>\n",
       "      <th>Diameter</th>\n",
       "      <td>0.0</td>\n",
       "      <td>-0.0</td>\n",
       "      <td>0.0</td>\n",
       "      <td>-0.0</td>\n",
       "      <td>0.0</td>\n",
       "      <td>-0.0</td>\n",
       "      <td>-0.0</td>\n",
       "    </tr>\n",
       "    <tr>\n",
       "      <th>Height</th>\n",
       "      <td>-0.0</td>\n",
       "      <td>0.0</td>\n",
       "      <td>-0.0</td>\n",
       "      <td>0.0</td>\n",
       "      <td>0.0</td>\n",
       "      <td>0.0</td>\n",
       "      <td>0.0</td>\n",
       "    </tr>\n",
       "    <tr>\n",
       "      <th>Length</th>\n",
       "      <td>0.0</td>\n",
       "      <td>-0.0</td>\n",
       "      <td>0.0</td>\n",
       "      <td>-0.0</td>\n",
       "      <td>-0.0</td>\n",
       "      <td>0.0</td>\n",
       "      <td>-0.0</td>\n",
       "    </tr>\n",
       "    <tr>\n",
       "      <th>Shell Weight</th>\n",
       "      <td>-0.0</td>\n",
       "      <td>0.0</td>\n",
       "      <td>-0.0</td>\n",
       "      <td>0.0</td>\n",
       "      <td>-0.0</td>\n",
       "      <td>0.0</td>\n",
       "      <td>-0.0</td>\n",
       "    </tr>\n",
       "    <tr>\n",
       "      <th>Shucked Weight</th>\n",
       "      <td>0.0</td>\n",
       "      <td>0.0</td>\n",
       "      <td>-0.0</td>\n",
       "      <td>-0.0</td>\n",
       "      <td>0.0</td>\n",
       "      <td>0.0</td>\n",
       "      <td>-0.0</td>\n",
       "    </tr>\n",
       "    <tr>\n",
       "      <th>Viscera Weight</th>\n",
       "      <td>-0.0</td>\n",
       "      <td>0.0</td>\n",
       "      <td>0.0</td>\n",
       "      <td>0.0</td>\n",
       "      <td>0.0</td>\n",
       "      <td>0.0</td>\n",
       "      <td>0.0</td>\n",
       "    </tr>\n",
       "    <tr>\n",
       "      <th>Weight</th>\n",
       "      <td>-0.0</td>\n",
       "      <td>0.0</td>\n",
       "      <td>-0.0</td>\n",
       "      <td>-0.0</td>\n",
       "      <td>-0.0</td>\n",
       "      <td>0.0</td>\n",
       "      <td>0.0</td>\n",
       "    </tr>\n",
       "  </tbody>\n",
       "</table>\n",
       "</div>"
      ],
      "text/plain": [
       "                Diameter  Height  Length  Shell Weight  Shucked Weight  \\\n",
       "Diameter             0.0    -0.0     0.0          -0.0             0.0   \n",
       "Height              -0.0     0.0    -0.0           0.0             0.0   \n",
       "Length               0.0    -0.0     0.0          -0.0            -0.0   \n",
       "Shell Weight        -0.0     0.0    -0.0           0.0            -0.0   \n",
       "Shucked Weight       0.0     0.0    -0.0          -0.0             0.0   \n",
       "Viscera Weight      -0.0     0.0     0.0           0.0             0.0   \n",
       "Weight              -0.0     0.0    -0.0          -0.0            -0.0   \n",
       "\n",
       "                Viscera Weight  Weight  \n",
       "Diameter                  -0.0    -0.0  \n",
       "Height                     0.0     0.0  \n",
       "Length                     0.0    -0.0  \n",
       "Shell Weight               0.0    -0.0  \n",
       "Shucked Weight             0.0    -0.0  \n",
       "Viscera Weight             0.0     0.0  \n",
       "Weight                     0.0     0.0  "
      ]
     },
     "execution_count": 12,
     "metadata": {},
     "output_type": "execute_result"
    }
   ],
   "source": [
    "(data[numerical].corr() - data_normed[numerical].corr()).round(5)"
   ]
  },
  {
   "cell_type": "markdown",
   "id": "6db27dc5",
   "metadata": {},
   "source": [
    "Надалі в цьому ноутбуці, будемо вважати що ми вже привели дані до одної шкали і будемо в основному користуватись data_stded."
   ]
  },
  {
   "cell_type": "code",
   "execution_count": 13,
   "id": "f2432b1c",
   "metadata": {},
   "outputs": [],
   "source": [
    "from sklearn.model_selection import train_test_split\n",
    "from sklearn.metrics import r2_score\n",
    "\n",
    "\n",
    "X_train, X_test, y_train, y_test = train_test_split(data_stded[numerical], data_stded[target], test_size=0.2)"
   ]
  },
  {
   "cell_type": "code",
   "execution_count": 14,
   "id": "878f5d86",
   "metadata": {},
   "outputs": [],
   "source": [
    "models_list = dict()\n",
    "y_test_pred_list = dict()"
   ]
  },
  {
   "cell_type": "markdown",
   "id": "834d42ce",
   "metadata": {},
   "source": [
    "Побудуємо типову модель лінійної регресії на всіх змінних, щоб далі нам було від чого відштовхуватись:"
   ]
  },
  {
   "cell_type": "code",
   "execution_count": 15,
   "id": "1c1c210b",
   "metadata": {},
   "outputs": [
    {
     "data": {
      "text/plain": [
       "(9.992966191653778,\n",
       " array([ 0.52118196,  0.7941479 ,  0.17196316,  1.91854829, -3.49223166,\n",
       "        -0.54838514,  2.53554564]))"
      ]
     },
     "execution_count": 15,
     "metadata": {},
     "output_type": "execute_result"
    }
   ],
   "source": [
    "from sklearn.linear_model import LinearRegression\n",
    "\n",
    "key = \"lr_basic\"\n",
    "\n",
    "lr = LinearRegression(fit_intercept = True)\n",
    "lr.fit(X_train, y_train)\n",
    "\n",
    "y_test_pred = lr.predict(X_test)\n",
    "\n",
    "models_list[key] = lr; y_test_pred_list[key] = y_test_pred\n",
    "\n",
    "lr.intercept_, lr.coef_"
   ]
  },
  {
   "cell_type": "code",
   "execution_count": 16,
   "id": "1e074614",
   "metadata": {},
   "outputs": [
    {
     "data": {
      "text/plain": [
       "0.5313304075984808"
      ]
     },
     "execution_count": 16,
     "metadata": {},
     "output_type": "execute_result"
    }
   ],
   "source": [
    "r2_score(y_test, y_test_pred)"
   ]
  },
  {
   "cell_type": "markdown",
   "id": "eda7ba6b",
   "metadata": {},
   "source": [
    "### 1) Відкидання непотрібних змінних\n",
    "\n",
    "Якщо знаходимо деяку пару змінних, яка корелює більше ніж 0.95, з двох залишаємо тільки одну"
   ]
  },
  {
   "cell_type": "code",
   "execution_count": 17,
   "id": "2c839d28",
   "metadata": {},
   "outputs": [
    {
     "data": {
      "text/html": [
       "<div>\n",
       "<style scoped>\n",
       "    .dataframe tbody tr th:only-of-type {\n",
       "        vertical-align: middle;\n",
       "    }\n",
       "\n",
       "    .dataframe tbody tr th {\n",
       "        vertical-align: top;\n",
       "    }\n",
       "\n",
       "    .dataframe thead th {\n",
       "        text-align: right;\n",
       "    }\n",
       "</style>\n",
       "<table border=\"1\" class=\"dataframe\">\n",
       "  <thead>\n",
       "    <tr style=\"text-align: right;\">\n",
       "      <th></th>\n",
       "      <th>Diameter</th>\n",
       "      <th>Height</th>\n",
       "      <th>Length</th>\n",
       "      <th>Shell Weight</th>\n",
       "      <th>Shucked Weight</th>\n",
       "      <th>Viscera Weight</th>\n",
       "      <th>Weight</th>\n",
       "    </tr>\n",
       "  </thead>\n",
       "  <tbody>\n",
       "    <tr>\n",
       "      <th>Diameter</th>\n",
       "      <td>1.000000</td>\n",
       "      <td>0.926579</td>\n",
       "      <td>0.988614</td>\n",
       "      <td>0.931288</td>\n",
       "      <td>0.922352</td>\n",
       "      <td>0.924603</td>\n",
       "      <td>0.946684</td>\n",
       "    </tr>\n",
       "    <tr>\n",
       "      <th>Height</th>\n",
       "      <td>0.926579</td>\n",
       "      <td>1.000000</td>\n",
       "      <td>0.923368</td>\n",
       "      <td>0.917790</td>\n",
       "      <td>0.875035</td>\n",
       "      <td>0.894434</td>\n",
       "      <td>0.914670</td>\n",
       "    </tr>\n",
       "    <tr>\n",
       "      <th>Length</th>\n",
       "      <td>0.988614</td>\n",
       "      <td>0.923368</td>\n",
       "      <td>1.000000</td>\n",
       "      <td>0.925975</td>\n",
       "      <td>0.924567</td>\n",
       "      <td>0.924915</td>\n",
       "      <td>0.945543</td>\n",
       "    </tr>\n",
       "    <tr>\n",
       "      <th>Shell Weight</th>\n",
       "      <td>0.931288</td>\n",
       "      <td>0.917790</td>\n",
       "      <td>0.925975</td>\n",
       "      <td>1.000000</td>\n",
       "      <td>0.911109</td>\n",
       "      <td>0.933734</td>\n",
       "      <td>0.966070</td>\n",
       "    </tr>\n",
       "    <tr>\n",
       "      <th>Shucked Weight</th>\n",
       "      <td>0.922352</td>\n",
       "      <td>0.875035</td>\n",
       "      <td>0.924567</td>\n",
       "      <td>0.911109</td>\n",
       "      <td>1.000000</td>\n",
       "      <td>0.941362</td>\n",
       "      <td>0.970952</td>\n",
       "    </tr>\n",
       "    <tr>\n",
       "      <th>Viscera Weight</th>\n",
       "      <td>0.924603</td>\n",
       "      <td>0.894434</td>\n",
       "      <td>0.924915</td>\n",
       "      <td>0.933734</td>\n",
       "      <td>0.941362</td>\n",
       "      <td>1.000000</td>\n",
       "      <td>0.970414</td>\n",
       "    </tr>\n",
       "    <tr>\n",
       "      <th>Weight</th>\n",
       "      <td>0.946684</td>\n",
       "      <td>0.914670</td>\n",
       "      <td>0.945543</td>\n",
       "      <td>0.966070</td>\n",
       "      <td>0.970952</td>\n",
       "      <td>0.970414</td>\n",
       "      <td>1.000000</td>\n",
       "    </tr>\n",
       "  </tbody>\n",
       "</table>\n",
       "</div>"
      ],
      "text/plain": [
       "                Diameter    Height    Length  Shell Weight  Shucked Weight  \\\n",
       "Diameter        1.000000  0.926579  0.988614      0.931288        0.922352   \n",
       "Height          0.926579  1.000000  0.923368      0.917790        0.875035   \n",
       "Length          0.988614  0.923368  1.000000      0.925975        0.924567   \n",
       "Shell Weight    0.931288  0.917790  0.925975      1.000000        0.911109   \n",
       "Shucked Weight  0.922352  0.875035  0.924567      0.911109        1.000000   \n",
       "Viscera Weight  0.924603  0.894434  0.924915      0.933734        0.941362   \n",
       "Weight          0.946684  0.914670  0.945543      0.966070        0.970952   \n",
       "\n",
       "                Viscera Weight    Weight  \n",
       "Diameter              0.924603  0.946684  \n",
       "Height                0.894434  0.914670  \n",
       "Length                0.924915  0.945543  \n",
       "Shell Weight          0.933734  0.966070  \n",
       "Shucked Weight        0.941362  0.970952  \n",
       "Viscera Weight        1.000000  0.970414  \n",
       "Weight                0.970414  1.000000  "
      ]
     },
     "execution_count": 17,
     "metadata": {},
     "output_type": "execute_result"
    }
   ],
   "source": [
    "data[numerical].corr()"
   ]
  },
  {
   "cell_type": "code",
   "execution_count": 18,
   "id": "7d56b10a",
   "metadata": {},
   "outputs": [
    {
     "data": {
      "text/html": [
       "<div>\n",
       "<style scoped>\n",
       "    .dataframe tbody tr th:only-of-type {\n",
       "        vertical-align: middle;\n",
       "    }\n",
       "\n",
       "    .dataframe tbody tr th {\n",
       "        vertical-align: top;\n",
       "    }\n",
       "\n",
       "    .dataframe thead th {\n",
       "        text-align: right;\n",
       "    }\n",
       "</style>\n",
       "<table border=\"1\" class=\"dataframe\">\n",
       "  <thead>\n",
       "    <tr style=\"text-align: right;\">\n",
       "      <th></th>\n",
       "      <th>Diameter</th>\n",
       "      <th>Height</th>\n",
       "      <th>Shell Weight</th>\n",
       "      <th>Shucked Weight</th>\n",
       "      <th>Viscera Weight</th>\n",
       "    </tr>\n",
       "  </thead>\n",
       "  <tbody>\n",
       "    <tr>\n",
       "      <th>Diameter</th>\n",
       "      <td>1.000000</td>\n",
       "      <td>0.926579</td>\n",
       "      <td>0.931288</td>\n",
       "      <td>0.922352</td>\n",
       "      <td>0.924603</td>\n",
       "    </tr>\n",
       "    <tr>\n",
       "      <th>Height</th>\n",
       "      <td>0.926579</td>\n",
       "      <td>1.000000</td>\n",
       "      <td>0.917790</td>\n",
       "      <td>0.875035</td>\n",
       "      <td>0.894434</td>\n",
       "    </tr>\n",
       "    <tr>\n",
       "      <th>Shell Weight</th>\n",
       "      <td>0.931288</td>\n",
       "      <td>0.917790</td>\n",
       "      <td>1.000000</td>\n",
       "      <td>0.911109</td>\n",
       "      <td>0.933734</td>\n",
       "    </tr>\n",
       "    <tr>\n",
       "      <th>Shucked Weight</th>\n",
       "      <td>0.922352</td>\n",
       "      <td>0.875035</td>\n",
       "      <td>0.911109</td>\n",
       "      <td>1.000000</td>\n",
       "      <td>0.941362</td>\n",
       "    </tr>\n",
       "    <tr>\n",
       "      <th>Viscera Weight</th>\n",
       "      <td>0.924603</td>\n",
       "      <td>0.894434</td>\n",
       "      <td>0.933734</td>\n",
       "      <td>0.941362</td>\n",
       "      <td>1.000000</td>\n",
       "    </tr>\n",
       "  </tbody>\n",
       "</table>\n",
       "</div>"
      ],
      "text/plain": [
       "                Diameter    Height  Shell Weight  Shucked Weight  \\\n",
       "Diameter        1.000000  0.926579      0.931288        0.922352   \n",
       "Height          0.926579  1.000000      0.917790        0.875035   \n",
       "Shell Weight    0.931288  0.917790      1.000000        0.911109   \n",
       "Shucked Weight  0.922352  0.875035      0.911109        1.000000   \n",
       "Viscera Weight  0.924603  0.894434      0.933734        0.941362   \n",
       "\n",
       "                Viscera Weight  \n",
       "Diameter              0.924603  \n",
       "Height                0.894434  \n",
       "Shell Weight          0.933734  \n",
       "Shucked Weight        0.941362  \n",
       "Viscera Weight        1.000000  "
      ]
     },
     "execution_count": 18,
     "metadata": {},
     "output_type": "execute_result"
    }
   ],
   "source": [
    "relevant_cols = [\"Diameter\", 'Height', \"Shell Weight\", \"Shucked Weight\", 'Viscera Weight']\n",
    "data[relevant_cols].corr()"
   ]
  },
  {
   "cell_type": "code",
   "execution_count": 19,
   "id": "3f71f847",
   "metadata": {},
   "outputs": [
    {
     "data": {
      "text/plain": [
       "(9.992557426005307,\n",
       " array([ 0.75300126,  0.82476789,  2.80099828, -2.49689066,  0.06780303]))"
      ]
     },
     "execution_count": 19,
     "metadata": {},
     "output_type": "execute_result"
    }
   ],
   "source": [
    "from sklearn.linear_model import LinearRegression\n",
    "\n",
    "key = \"lr_cutted\"\n",
    "\n",
    "lr = LinearRegression(fit_intercept = True)\n",
    "lr.fit(X_train[relevant_cols], y_train)\n",
    "\n",
    "y_test_pred = lr.predict(X_test[relevant_cols])\n",
    "\n",
    "models_list[key] = lr; y_test_pred_list[key] = y_test_pred\n",
    "\n",
    "lr.intercept_, lr.coef_"
   ]
  },
  {
   "cell_type": "code",
   "execution_count": 20,
   "id": "66c6dd82",
   "metadata": {},
   "outputs": [
    {
     "data": {
      "text/plain": [
       "0.5212884469696358"
      ]
     },
     "execution_count": 20,
     "metadata": {},
     "output_type": "execute_result"
    }
   ],
   "source": [
    "r2_score(y_test, y_test_pred)"
   ]
  },
  {
   "cell_type": "markdown",
   "id": "4b1628d8",
   "metadata": {},
   "source": [
    "Видалення змінних може допомогти, може - і ні;\n",
    "\n",
    "В даному випадку бачимо, що видалення змінних по взаємній колінеарності сильно не змінює ситуацію"
   ]
  },
  {
   "cell_type": "markdown",
   "id": "9c8595e0",
   "metadata": {},
   "source": [
    "### 2. Регуляризація\n",
    "\n",
    "Альтернативами звичайній лінійній регресії є регуляризовані моделі Ridge і Lasso\n",
    "\n",
    "LinearRegression: $ || X \\beta - y ||^2 \\rightarrow min_{\\beta} $\n",
    "\n",
    "Ridge: $ || X \\beta - y ||^2 + \\lambda \\sum_{i=1}^n \\beta_i^2 \\rightarrow min_{\\beta} $\n",
    "\n",
    "Lasso: $ || X \\beta - y ||^2 + \\lambda \\sum_{i=1}^n | \\beta_i | \\rightarrow min_{\\beta} $\n",
    "\n",
    "Змінюючи $ \\lambda $ , можемо змінювати силу регуляризації"
   ]
  },
  {
   "cell_type": "code",
   "execution_count": 21,
   "id": "5d10a347",
   "metadata": {},
   "outputs": [
    {
     "name": "stdout",
     "output_type": "stream",
     "text": [
      "alpha = 1e-05, r2_score = 0.53133, coef = [ 0.52118  0.79415  0.17196  1.91855 -3.49223 -0.54839  2.53555]\n",
      "alpha = 0.001, r2_score = 0.53133, coef = [ 0.52118  0.79415  0.17196  1.91855 -3.49223 -0.54838  2.53554]\n",
      "alpha = 1.0, r2_score = 0.53133, coef = [ 0.52109  0.79424  0.17201  1.91966 -3.4899  -0.5474   2.53117]\n",
      "alpha = 100000.0, r2_score = 0.36918, coef = [0.23815 0.30383 0.22413 0.33639 0.05984 0.18213 0.21268]\n",
      "alpha = 10000000000.0, r2_score = 3e-05, coef = [1.e-05 1.e-05 1.e-05 1.e-05 1.e-05 1.e-05 1.e-05]\n"
     ]
    }
   ],
   "source": [
    "from sklearn.linear_model import Ridge, Lasso\n",
    "\n",
    "for alpha in [1e-5, 1e-3, 1e0, 1e5, 1e10]:\n",
    "\n",
    "    key = f\"ridge_{alpha}\"\n",
    "\n",
    "    lr = Ridge(alpha = alpha, fit_intercept = True)\n",
    "    lr.fit(X_train, y_train)\n",
    "\n",
    "    y_test_pred = lr.predict(X_test)\n",
    "\n",
    "    models_list[key] = lr; y_test_pred_list[key] = y_test_pred\n",
    "\n",
    "    print(f\"alpha = {alpha}, r2_score = {round(r2_score(y_test, y_test_pred), 5)}, coef = {lr.coef_.round(5)}\")"
   ]
  },
  {
   "cell_type": "code",
   "execution_count": 22,
   "id": "a524bcf5",
   "metadata": {},
   "outputs": [
    {
     "name": "stdout",
     "output_type": "stream",
     "text": [
      "alpha = 0.0001, r2_score = 0.53132, coef = [ 0.52129  0.79416  0.171    1.92076 -3.48759 -0.54467  2.52599]\n",
      "alpha = 0.01, r2_score = 0.52878, coef = [ 0.52425  0.79421  0.08278  2.1393  -3.0297  -0.17837  1.5856 ]\n",
      "alpha = 1.0, r2_score = 0.32569, coef = [0.      0.03799 0.      1.01865 0.      0.      0.     ]\n",
      "alpha = 100.0, r2_score = -0.0, coef = [0. 0. 0. 0. 0. 0. 0.]\n"
     ]
    }
   ],
   "source": [
    "from sklearn.linear_model import Ridge, Lasso\n",
    "\n",
    "for alpha in [1e-4, 1e-2, 1e0, 1e2]:\n",
    "\n",
    "    key = f\"lasso_{alpha}\"\n",
    "\n",
    "    lr = Lasso(alpha = alpha, fit_intercept = True)\n",
    "    lr.fit(X_train, y_train)\n",
    "\n",
    "    y_test_pred = lr.predict(X_test)\n",
    "\n",
    "    models_list[key] = lr; y_test_pred_list[key] = y_test_pred\n",
    "\n",
    "    print(f\"alpha = {alpha}, r2_score = {round(r2_score(y_test, y_test_pred), 5)}, coef = {lr.coef_.round(5)}\")"
   ]
  }
 ],
 "metadata": {
  "kernelspec": {
   "display_name": "fti_labs",
   "language": "python",
   "name": "fti_labs"
  },
  "language_info": {
   "codemirror_mode": {
    "name": "ipython",
    "version": 3
   },
   "file_extension": ".py",
   "mimetype": "text/x-python",
   "name": "python",
   "nbconvert_exporter": "python",
   "pygments_lexer": "ipython3",
   "version": "3.10.12"
  }
 },
 "nbformat": 4,
 "nbformat_minor": 5
}
